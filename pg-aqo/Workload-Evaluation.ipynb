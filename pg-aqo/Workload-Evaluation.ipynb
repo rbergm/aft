{
 "cells": [
  {
   "cell_type": "markdown",
   "metadata": {},
   "source": [
    "# Evaluation of the Randomized Workload"
   ]
  },
  {
   "cell_type": "code",
   "execution_count": 1,
   "metadata": {},
   "outputs": [],
   "source": [
    "import pandas as pd\n",
    "import matplotlib.pyplot as plt\n",
    "import seaborn as sns\n",
    "\n",
    "sns.set_style(\"whitegrid\")"
   ]
  },
  {
   "cell_type": "code",
   "execution_count": 20,
   "metadata": {},
   "outputs": [],
   "source": [
    "# get access to our utility scripts\n",
    "import sys\n",
    "utils_path = \"../utils/\"\n",
    "if not utils_path in sys.path:\n",
    "    sys.path.insert(0, utils_path)\n",
    "from helper import *"
   ]
  },
  {
   "cell_type": "markdown",
   "metadata": {},
   "source": [
    "## Data loading\n",
    "\n",
    "Run 1:"
   ]
  },
  {
   "cell_type": "code",
   "execution_count": 3,
   "metadata": {},
   "outputs": [],
   "source": [
    "df1 = pd.read_csv(\"workloads/randomized/job-complete-aqo-1-cout.csv\")\n",
    "df1.reset_index(inplace=True)\n",
    "df1[\"index\"] += 1\n",
    "df1.sort_values(by=\"label\", inplace=True)"
   ]
  },
  {
   "cell_type": "markdown",
   "metadata": {},
   "source": [
    "Run 2:"
   ]
  },
  {
   "cell_type": "code",
   "execution_count": 4,
   "metadata": {},
   "outputs": [],
   "source": [
    "df2 = pd.read_csv(\"workloads/randomized/job-complete-aqo-2-cout.csv\")\n",
    "df2.reset_index(inplace=True)\n",
    "df2[\"index\"] += 1\n",
    "df2.sort_values(by=\"label\", inplace=True)"
   ]
  },
  {
   "cell_type": "markdown",
   "metadata": {},
   "source": [
    "Run 3:"
   ]
  },
  {
   "cell_type": "code",
   "execution_count": 5,
   "metadata": {},
   "outputs": [],
   "source": [
    "df3 = pd.read_csv(\"workloads/randomized/job-complete-aqo-3-cout.csv\")\n",
    "df3.reset_index(inplace=True)\n",
    "df3[\"index\"] += 1\n",
    "df3.sort_values(by=\"label\", inplace=True)"
   ]
  },
  {
   "cell_type": "markdown",
   "metadata": {},
   "source": [
    "## Detecting queries with different $C_{out}$ values"
   ]
  },
  {
   "cell_type": "code",
   "execution_count": 6,
   "metadata": {},
   "outputs": [],
   "source": [
    "proj = [\"cout\", \"t_exec\", \"label\", \"index\"]\n",
    "_m1 = pd.merge(df1[proj], df2[proj], on=\"label\", suffixes=[\"_run1\", \"_run2\"])\n",
    "df_comb = pd.merge(_m1, df3[proj], on=\"label\", suffixes=[\"\", \"_run3\"])\n",
    "df_comb.set_index(\"label\", inplace=True)\n",
    "df_comb.rename(columns={\"cout\": \"cout_run3\", \"t_exec\": \"t_exec_run3\", \"index\": \"index_run3\"}, inplace=True)"
   ]
  },
  {
   "cell_type": "code",
   "execution_count": 7,
   "metadata": {},
   "outputs": [],
   "source": [
    "cout_cols = [\"cout_run1\", \"index_run1\", \"cout_run2\", \"index_run2\", \"cout_run3\", \"index_run3\"]\n",
    "t_exec_cols = [\"t_exec_run1\", \"index_run1\", \"t_exec_run2\", \"index_run2\", \"t_exec_run3\", \"index_run3\"]"
   ]
  },
  {
   "cell_type": "code",
   "execution_count": 8,
   "metadata": {},
   "outputs": [
    {
     "data": {
      "text/html": [
       "<div>\n",
       "<style scoped>\n",
       "    .dataframe tbody tr th:only-of-type {\n",
       "        vertical-align: middle;\n",
       "    }\n",
       "\n",
       "    .dataframe tbody tr th {\n",
       "        vertical-align: top;\n",
       "    }\n",
       "\n",
       "    .dataframe thead th {\n",
       "        text-align: right;\n",
       "    }\n",
       "</style>\n",
       "<table border=\"1\" class=\"dataframe\">\n",
       "  <thead>\n",
       "    <tr style=\"text-align: right;\">\n",
       "      <th></th>\n",
       "      <th>cout_run1</th>\n",
       "      <th>index_run1</th>\n",
       "      <th>cout_run2</th>\n",
       "      <th>index_run2</th>\n",
       "      <th>cout_run3</th>\n",
       "      <th>index_run3</th>\n",
       "    </tr>\n",
       "    <tr>\n",
       "      <th>label</th>\n",
       "      <th></th>\n",
       "      <th></th>\n",
       "      <th></th>\n",
       "      <th></th>\n",
       "      <th></th>\n",
       "      <th></th>\n",
       "    </tr>\n",
       "  </thead>\n",
       "  <tbody>\n",
       "    <tr>\n",
       "      <th>13b</th>\n",
       "      <td>1912702</td>\n",
       "      <td>50</td>\n",
       "      <td>1912702</td>\n",
       "      <td>99</td>\n",
       "      <td>2641491</td>\n",
       "      <td>37</td>\n",
       "    </tr>\n",
       "    <tr>\n",
       "      <th>13c</th>\n",
       "      <td>2640445</td>\n",
       "      <td>26</td>\n",
       "      <td>2640445</td>\n",
       "      <td>72</td>\n",
       "      <td>1912521</td>\n",
       "      <td>108</td>\n",
       "    </tr>\n",
       "    <tr>\n",
       "      <th>16a</th>\n",
       "      <td>2602623</td>\n",
       "      <td>108</td>\n",
       "      <td>14366</td>\n",
       "      <td>26</td>\n",
       "      <td>14366</td>\n",
       "      <td>73</td>\n",
       "    </tr>\n",
       "    <tr>\n",
       "      <th>16d</th>\n",
       "      <td>216884</td>\n",
       "      <td>43</td>\n",
       "      <td>619573</td>\n",
       "      <td>50</td>\n",
       "      <td>619573</td>\n",
       "      <td>98</td>\n",
       "    </tr>\n",
       "    <tr>\n",
       "      <th>17b</th>\n",
       "      <td>399376</td>\n",
       "      <td>30</td>\n",
       "      <td>3599101</td>\n",
       "      <td>108</td>\n",
       "      <td>399376</td>\n",
       "      <td>70</td>\n",
       "    </tr>\n",
       "    <tr>\n",
       "      <th>17c</th>\n",
       "      <td>3533427</td>\n",
       "      <td>83</td>\n",
       "      <td>362078</td>\n",
       "      <td>55</td>\n",
       "      <td>3533427</td>\n",
       "      <td>113</td>\n",
       "    </tr>\n",
       "    <tr>\n",
       "      <th>22a</th>\n",
       "      <td>167972</td>\n",
       "      <td>101</td>\n",
       "      <td>492850</td>\n",
       "      <td>96</td>\n",
       "      <td>167972</td>\n",
       "      <td>32</td>\n",
       "    </tr>\n",
       "    <tr>\n",
       "      <th>22b</th>\n",
       "      <td>380673</td>\n",
       "      <td>25</td>\n",
       "      <td>163944</td>\n",
       "      <td>103</td>\n",
       "      <td>380673</td>\n",
       "      <td>26</td>\n",
       "    </tr>\n",
       "    <tr>\n",
       "      <th>2a</th>\n",
       "      <td>68686</td>\n",
       "      <td>41</td>\n",
       "      <td>804167</td>\n",
       "      <td>59</td>\n",
       "      <td>68546</td>\n",
       "      <td>107</td>\n",
       "    </tr>\n",
       "    <tr>\n",
       "      <th>2b</th>\n",
       "      <td>36236</td>\n",
       "      <td>87</td>\n",
       "      <td>66950</td>\n",
       "      <td>33</td>\n",
       "      <td>36236</td>\n",
       "      <td>101</td>\n",
       "    </tr>\n",
       "    <tr>\n",
       "      <th>2c</th>\n",
       "      <td>63464</td>\n",
       "      <td>5</td>\n",
       "      <td>3</td>\n",
       "      <td>37</td>\n",
       "      <td>2</td>\n",
       "      <td>99</td>\n",
       "    </tr>\n",
       "    <tr>\n",
       "      <th>2d</th>\n",
       "      <td>444090</td>\n",
       "      <td>78</td>\n",
       "      <td>444090</td>\n",
       "      <td>85</td>\n",
       "      <td>100183</td>\n",
       "      <td>68</td>\n",
       "    </tr>\n",
       "    <tr>\n",
       "      <th>6a</th>\n",
       "      <td>427</td>\n",
       "      <td>12</td>\n",
       "      <td>419</td>\n",
       "      <td>20</td>\n",
       "      <td>427</td>\n",
       "      <td>24</td>\n",
       "    </tr>\n",
       "    <tr>\n",
       "      <th>6b</th>\n",
       "      <td>12001</td>\n",
       "      <td>73</td>\n",
       "      <td>1044</td>\n",
       "      <td>64</td>\n",
       "      <td>12001</td>\n",
       "      <td>12</td>\n",
       "    </tr>\n",
       "    <tr>\n",
       "      <th>6c</th>\n",
       "      <td>18</td>\n",
       "      <td>109</td>\n",
       "      <td>19</td>\n",
       "      <td>9</td>\n",
       "      <td>18</td>\n",
       "      <td>76</td>\n",
       "    </tr>\n",
       "  </tbody>\n",
       "</table>\n",
       "</div>"
      ],
      "text/plain": [
       "       cout_run1  index_run1  cout_run2  index_run2  cout_run3  index_run3\n",
       "label                                                                     \n",
       "13b      1912702          50    1912702          99    2641491          37\n",
       "13c      2640445          26    2640445          72    1912521         108\n",
       "16a      2602623         108      14366          26      14366          73\n",
       "16d       216884          43     619573          50     619573          98\n",
       "17b       399376          30    3599101         108     399376          70\n",
       "17c      3533427          83     362078          55    3533427         113\n",
       "22a       167972         101     492850          96     167972          32\n",
       "22b       380673          25     163944         103     380673          26\n",
       "2a         68686          41     804167          59      68546         107\n",
       "2b         36236          87      66950          33      36236         101\n",
       "2c         63464           5          3          37          2          99\n",
       "2d        444090          78     444090          85     100183          68\n",
       "6a           427          12        419          20        427          24\n",
       "6b         12001          73       1044          64      12001          12\n",
       "6c            18         109         19           9         18          76"
      ]
     },
     "execution_count": 8,
     "metadata": {},
     "output_type": "execute_result"
    }
   ],
   "source": [
    "df_comb[\"diff_1_2\"] = df_comb.cout_run1 != df_comb.cout_run2\n",
    "df_comb[\"diff_1_3\"] = df_comb.cout_run1 != df_comb.cout_run3\n",
    "df_comb[\"diff_2_3\"] = df_comb.cout_run2 != df_comb.cout_run3\n",
    "df_comb[\"diff_any\"] = df_comb.diff_1_2 | df_comb.diff_1_3 | df_comb.diff_2_3\n",
    "df_comb[df_comb.diff_any][cout_cols]"
   ]
  },
  {
   "cell_type": "code",
   "execution_count": 9,
   "metadata": {},
   "outputs": [
    {
     "data": {
      "text/html": [
       "<div>\n",
       "<style scoped>\n",
       "    .dataframe tbody tr th:only-of-type {\n",
       "        vertical-align: middle;\n",
       "    }\n",
       "\n",
       "    .dataframe tbody tr th {\n",
       "        vertical-align: top;\n",
       "    }\n",
       "\n",
       "    .dataframe thead th {\n",
       "        text-align: right;\n",
       "    }\n",
       "</style>\n",
       "<table border=\"1\" class=\"dataframe\">\n",
       "  <thead>\n",
       "    <tr style=\"text-align: right;\">\n",
       "      <th></th>\n",
       "      <th>t_exec_run1</th>\n",
       "      <th>index_run1</th>\n",
       "      <th>t_exec_run2</th>\n",
       "      <th>index_run2</th>\n",
       "      <th>t_exec_run3</th>\n",
       "      <th>index_run3</th>\n",
       "    </tr>\n",
       "    <tr>\n",
       "      <th>label</th>\n",
       "      <th></th>\n",
       "      <th></th>\n",
       "      <th></th>\n",
       "      <th></th>\n",
       "      <th></th>\n",
       "      <th></th>\n",
       "    </tr>\n",
       "  </thead>\n",
       "  <tbody>\n",
       "    <tr>\n",
       "      <th>13b</th>\n",
       "      <td>14931.466</td>\n",
       "      <td>50</td>\n",
       "      <td>15476.340</td>\n",
       "      <td>99</td>\n",
       "      <td>20618.351</td>\n",
       "      <td>37</td>\n",
       "    </tr>\n",
       "    <tr>\n",
       "      <th>13c</th>\n",
       "      <td>22531.254</td>\n",
       "      <td>26</td>\n",
       "      <td>20874.950</td>\n",
       "      <td>72</td>\n",
       "      <td>14728.999</td>\n",
       "      <td>108</td>\n",
       "    </tr>\n",
       "    <tr>\n",
       "      <th>16a</th>\n",
       "      <td>24687.911</td>\n",
       "      <td>108</td>\n",
       "      <td>14697.899</td>\n",
       "      <td>26</td>\n",
       "      <td>14672.818</td>\n",
       "      <td>73</td>\n",
       "    </tr>\n",
       "    <tr>\n",
       "      <th>16d</th>\n",
       "      <td>20714.552</td>\n",
       "      <td>43</td>\n",
       "      <td>20028.361</td>\n",
       "      <td>50</td>\n",
       "      <td>19205.697</td>\n",
       "      <td>98</td>\n",
       "    </tr>\n",
       "    <tr>\n",
       "      <th>17b</th>\n",
       "      <td>30549.297</td>\n",
       "      <td>30</td>\n",
       "      <td>27558.473</td>\n",
       "      <td>108</td>\n",
       "      <td>25974.502</td>\n",
       "      <td>70</td>\n",
       "    </tr>\n",
       "    <tr>\n",
       "      <th>17c</th>\n",
       "      <td>25371.218</td>\n",
       "      <td>83</td>\n",
       "      <td>23435.039</td>\n",
       "      <td>55</td>\n",
       "      <td>25159.056</td>\n",
       "      <td>113</td>\n",
       "    </tr>\n",
       "    <tr>\n",
       "      <th>22a</th>\n",
       "      <td>10055.220</td>\n",
       "      <td>101</td>\n",
       "      <td>11210.206</td>\n",
       "      <td>96</td>\n",
       "      <td>9831.744</td>\n",
       "      <td>32</td>\n",
       "    </tr>\n",
       "    <tr>\n",
       "      <th>22b</th>\n",
       "      <td>11267.370</td>\n",
       "      <td>25</td>\n",
       "      <td>10086.261</td>\n",
       "      <td>103</td>\n",
       "      <td>10638.097</td>\n",
       "      <td>26</td>\n",
       "    </tr>\n",
       "    <tr>\n",
       "      <th>2a</th>\n",
       "      <td>2575.391</td>\n",
       "      <td>41</td>\n",
       "      <td>5760.084</td>\n",
       "      <td>59</td>\n",
       "      <td>2319.825</td>\n",
       "      <td>107</td>\n",
       "    </tr>\n",
       "    <tr>\n",
       "      <th>2b</th>\n",
       "      <td>2357.980</td>\n",
       "      <td>87</td>\n",
       "      <td>2622.657</td>\n",
       "      <td>33</td>\n",
       "      <td>2286.756</td>\n",
       "      <td>101</td>\n",
       "    </tr>\n",
       "    <tr>\n",
       "      <th>2c</th>\n",
       "      <td>3315.719</td>\n",
       "      <td>5</td>\n",
       "      <td>2062.142</td>\n",
       "      <td>37</td>\n",
       "      <td>2059.698</td>\n",
       "      <td>99</td>\n",
       "    </tr>\n",
       "    <tr>\n",
       "      <th>2d</th>\n",
       "      <td>3389.801</td>\n",
       "      <td>78</td>\n",
       "      <td>3834.816</td>\n",
       "      <td>85</td>\n",
       "      <td>3640.791</td>\n",
       "      <td>68</td>\n",
       "    </tr>\n",
       "    <tr>\n",
       "      <th>6a</th>\n",
       "      <td>12518.641</td>\n",
       "      <td>12</td>\n",
       "      <td>12361.101</td>\n",
       "      <td>20</td>\n",
       "      <td>12301.427</td>\n",
       "      <td>24</td>\n",
       "    </tr>\n",
       "    <tr>\n",
       "      <th>6b</th>\n",
       "      <td>13275.796</td>\n",
       "      <td>73</td>\n",
       "      <td>13970.293</td>\n",
       "      <td>64</td>\n",
       "      <td>13035.204</td>\n",
       "      <td>12</td>\n",
       "    </tr>\n",
       "    <tr>\n",
       "      <th>6c</th>\n",
       "      <td>12615.404</td>\n",
       "      <td>109</td>\n",
       "      <td>12143.909</td>\n",
       "      <td>9</td>\n",
       "      <td>12175.966</td>\n",
       "      <td>76</td>\n",
       "    </tr>\n",
       "  </tbody>\n",
       "</table>\n",
       "</div>"
      ],
      "text/plain": [
       "       t_exec_run1  index_run1  t_exec_run2  index_run2  t_exec_run3  \\\n",
       "label                                                                  \n",
       "13b      14931.466          50    15476.340          99    20618.351   \n",
       "13c      22531.254          26    20874.950          72    14728.999   \n",
       "16a      24687.911         108    14697.899          26    14672.818   \n",
       "16d      20714.552          43    20028.361          50    19205.697   \n",
       "17b      30549.297          30    27558.473         108    25974.502   \n",
       "17c      25371.218          83    23435.039          55    25159.056   \n",
       "22a      10055.220         101    11210.206          96     9831.744   \n",
       "22b      11267.370          25    10086.261         103    10638.097   \n",
       "2a        2575.391          41     5760.084          59     2319.825   \n",
       "2b        2357.980          87     2622.657          33     2286.756   \n",
       "2c        3315.719           5     2062.142          37     2059.698   \n",
       "2d        3389.801          78     3834.816          85     3640.791   \n",
       "6a       12518.641          12    12361.101          20    12301.427   \n",
       "6b       13275.796          73    13970.293          64    13035.204   \n",
       "6c       12615.404         109    12143.909           9    12175.966   \n",
       "\n",
       "       index_run3  \n",
       "label              \n",
       "13b            37  \n",
       "13c           108  \n",
       "16a            73  \n",
       "16d            98  \n",
       "17b            70  \n",
       "17c           113  \n",
       "22a            32  \n",
       "22b            26  \n",
       "2a            107  \n",
       "2b            101  \n",
       "2c             99  \n",
       "2d             68  \n",
       "6a             24  \n",
       "6b             12  \n",
       "6c             76  "
      ]
     },
     "execution_count": 9,
     "metadata": {},
     "output_type": "execute_result"
    }
   ],
   "source": [
    "df_comb[df_comb.diff_any][t_exec_cols]"
   ]
  },
  {
   "cell_type": "markdown",
   "metadata": {},
   "source": [
    "---\n",
    "\n",
    "# Evaluation of the Incremental Workload"
   ]
  },
  {
   "cell_type": "code",
   "execution_count": 1,
   "metadata": {},
   "outputs": [],
   "source": [
    "import json\n",
    "\n",
    "import matplotlib.pyplot as plt\n",
    "import numpy as np\n",
    "import pandas as pd\n",
    "import seaborn as sns\n",
    "\n",
    "sns.set_style(\"whitegrid\")"
   ]
  },
  {
   "cell_type": "code",
   "execution_count": 20,
   "metadata": {},
   "outputs": [],
   "source": [
    "# get access to our utility scripts\n",
    "import sys\n",
    "utils_path = \"../utils/\"\n",
    "if not utils_path in sys.path:\n",
    "    sys.path.insert(0, utils_path)\n",
    "from helper import *"
   ]
  },
  {
   "cell_type": "markdown",
   "metadata": {},
   "source": [
    "## Data loading"
   ]
  },
  {
   "cell_type": "code",
   "execution_count": 2,
   "metadata": {},
   "outputs": [
    {
     "data": {
      "text/html": [
       "<div>\n",
       "<style scoped>\n",
       "    .dataframe tbody tr th:only-of-type {\n",
       "        vertical-align: middle;\n",
       "    }\n",
       "\n",
       "    .dataframe tbody tr th {\n",
       "        vertical-align: top;\n",
       "    }\n",
       "\n",
       "    .dataframe thead th {\n",
       "        text-align: right;\n",
       "    }\n",
       "</style>\n",
       "<table border=\"1\" class=\"dataframe\">\n",
       "  <thead>\n",
       "    <tr style=\"text-align: right;\">\n",
       "      <th></th>\n",
       "      <th>query</th>\n",
       "      <th>cout</th>\n",
       "      <th>plan</th>\n",
       "      <th>t_exec</th>\n",
       "      <th>t_plan</th>\n",
       "      <th>label</th>\n",
       "      <th>run</th>\n",
       "    </tr>\n",
       "  </thead>\n",
       "  <tbody>\n",
       "    <tr>\n",
       "      <th>0</th>\n",
       "      <td>SELECT COUNT(*) FROM char_name AS chn, cast_in...</td>\n",
       "      <td>38424</td>\n",
       "      <td>[{'Plan': {'Node Type': 'Aggregate', 'Strategy...</td>\n",
       "      <td>23480.780</td>\n",
       "      <td>110.555</td>\n",
       "      <td>10a</td>\n",
       "      <td>1</td>\n",
       "    </tr>\n",
       "    <tr>\n",
       "      <th>1</th>\n",
       "      <td>SELECT COUNT(*) FROM char_name AS chn, cast_in...</td>\n",
       "      <td>4</td>\n",
       "      <td>[{'Plan': {'Node Type': 'Aggregate', 'Strategy...</td>\n",
       "      <td>10420.391</td>\n",
       "      <td>22.254</td>\n",
       "      <td>10b</td>\n",
       "      <td>1</td>\n",
       "    </tr>\n",
       "    <tr>\n",
       "      <th>2</th>\n",
       "      <td>SELECT COUNT(*) FROM char_name AS chn, cast_in...</td>\n",
       "      <td>1260587</td>\n",
       "      <td>[{'Plan': {'Node Type': 'Aggregate', 'Strategy...</td>\n",
       "      <td>19898.561</td>\n",
       "      <td>7.607</td>\n",
       "      <td>10c</td>\n",
       "      <td>1</td>\n",
       "    </tr>\n",
       "    <tr>\n",
       "      <th>3</th>\n",
       "      <td>SELECT COUNT(*) FROM company_name AS cn, compa...</td>\n",
       "      <td>403299</td>\n",
       "      <td>[{'Plan': {'Node Type': 'Aggregate', 'Strategy...</td>\n",
       "      <td>3835.188</td>\n",
       "      <td>72.951</td>\n",
       "      <td>11a</td>\n",
       "      <td>1</td>\n",
       "    </tr>\n",
       "    <tr>\n",
       "      <th>4</th>\n",
       "      <td>SELECT COUNT(*) FROM company_name AS cn, compa...</td>\n",
       "      <td>1301</td>\n",
       "      <td>[{'Plan': {'Node Type': 'Aggregate', 'Strategy...</td>\n",
       "      <td>19560.226</td>\n",
       "      <td>15.755</td>\n",
       "      <td>11b</td>\n",
       "      <td>1</td>\n",
       "    </tr>\n",
       "    <tr>\n",
       "      <th>...</th>\n",
       "      <td>...</td>\n",
       "      <td>...</td>\n",
       "      <td>...</td>\n",
       "      <td>...</td>\n",
       "      <td>...</td>\n",
       "      <td>...</td>\n",
       "      <td>...</td>\n",
       "    </tr>\n",
       "    <tr>\n",
       "      <th>108</th>\n",
       "      <td>SELECT COUNT(*) FROM aka_name AS an1, cast_inf...</td>\n",
       "      <td>872726</td>\n",
       "      <td>[{'Plan': {'Node Type': 'Aggregate', 'Strategy...</td>\n",
       "      <td>15853.688</td>\n",
       "      <td>6.219</td>\n",
       "      <td>8d</td>\n",
       "      <td>3</td>\n",
       "    </tr>\n",
       "    <tr>\n",
       "      <th>109</th>\n",
       "      <td>SELECT COUNT(*) FROM aka_name AS an, char_name...</td>\n",
       "      <td>403264</td>\n",
       "      <td>[{'Plan': {'Node Type': 'Aggregate', 'Strategy...</td>\n",
       "      <td>14105.930</td>\n",
       "      <td>18.249</td>\n",
       "      <td>9a</td>\n",
       "      <td>3</td>\n",
       "    </tr>\n",
       "    <tr>\n",
       "      <th>110</th>\n",
       "      <td>SELECT COUNT(*) FROM aka_name AS an, char_name...</td>\n",
       "      <td>138596</td>\n",
       "      <td>[{'Plan': {'Node Type': 'Aggregate', 'Strategy...</td>\n",
       "      <td>12357.023</td>\n",
       "      <td>15.859</td>\n",
       "      <td>9b</td>\n",
       "      <td>3</td>\n",
       "    </tr>\n",
       "    <tr>\n",
       "      <th>111</th>\n",
       "      <td>SELECT COUNT(*) FROM aka_name AS an, char_name...</td>\n",
       "      <td>276606</td>\n",
       "      <td>[{'Plan': {'Node Type': 'Aggregate', 'Strategy...</td>\n",
       "      <td>13456.577</td>\n",
       "      <td>11.716</td>\n",
       "      <td>9c</td>\n",
       "      <td>3</td>\n",
       "    </tr>\n",
       "    <tr>\n",
       "      <th>112</th>\n",
       "      <td>SELECT COUNT(*) FROM aka_name AS an, char_name...</td>\n",
       "      <td>1213881</td>\n",
       "      <td>[{'Plan': {'Node Type': 'Aggregate', 'Strategy...</td>\n",
       "      <td>17371.718</td>\n",
       "      <td>13.084</td>\n",
       "      <td>9d</td>\n",
       "      <td>3</td>\n",
       "    </tr>\n",
       "  </tbody>\n",
       "</table>\n",
       "<p>339 rows × 7 columns</p>\n",
       "</div>"
      ],
      "text/plain": [
       "                                                 query     cout  \\\n",
       "0    SELECT COUNT(*) FROM char_name AS chn, cast_in...    38424   \n",
       "1    SELECT COUNT(*) FROM char_name AS chn, cast_in...        4   \n",
       "2    SELECT COUNT(*) FROM char_name AS chn, cast_in...  1260587   \n",
       "3    SELECT COUNT(*) FROM company_name AS cn, compa...   403299   \n",
       "4    SELECT COUNT(*) FROM company_name AS cn, compa...     1301   \n",
       "..                                                 ...      ...   \n",
       "108  SELECT COUNT(*) FROM aka_name AS an1, cast_inf...   872726   \n",
       "109  SELECT COUNT(*) FROM aka_name AS an, char_name...   403264   \n",
       "110  SELECT COUNT(*) FROM aka_name AS an, char_name...   138596   \n",
       "111  SELECT COUNT(*) FROM aka_name AS an, char_name...   276606   \n",
       "112  SELECT COUNT(*) FROM aka_name AS an, char_name...  1213881   \n",
       "\n",
       "                                                  plan     t_exec   t_plan  \\\n",
       "0    [{'Plan': {'Node Type': 'Aggregate', 'Strategy...  23480.780  110.555   \n",
       "1    [{'Plan': {'Node Type': 'Aggregate', 'Strategy...  10420.391   22.254   \n",
       "2    [{'Plan': {'Node Type': 'Aggregate', 'Strategy...  19898.561    7.607   \n",
       "3    [{'Plan': {'Node Type': 'Aggregate', 'Strategy...   3835.188   72.951   \n",
       "4    [{'Plan': {'Node Type': 'Aggregate', 'Strategy...  19560.226   15.755   \n",
       "..                                                 ...        ...      ...   \n",
       "108  [{'Plan': {'Node Type': 'Aggregate', 'Strategy...  15853.688    6.219   \n",
       "109  [{'Plan': {'Node Type': 'Aggregate', 'Strategy...  14105.930   18.249   \n",
       "110  [{'Plan': {'Node Type': 'Aggregate', 'Strategy...  12357.023   15.859   \n",
       "111  [{'Plan': {'Node Type': 'Aggregate', 'Strategy...  13456.577   11.716   \n",
       "112  [{'Plan': {'Node Type': 'Aggregate', 'Strategy...  17371.718   13.084   \n",
       "\n",
       "    label  run  \n",
       "0     10a    1  \n",
       "1     10b    1  \n",
       "2     10c    1  \n",
       "3     11a    1  \n",
       "4     11b    1  \n",
       "..    ...  ...  \n",
       "108    8d    3  \n",
       "109    9a    3  \n",
       "110    9b    3  \n",
       "111    9c    3  \n",
       "112    9d    3  \n",
       "\n",
       "[339 rows x 7 columns]"
      ]
     },
     "execution_count": 2,
     "metadata": {},
     "output_type": "execute_result"
    }
   ],
   "source": [
    "df_native = pd.read_csv(\"../ues/workloads/job-implicit-cout.csv\")\n",
    "df_run1 = pd.read_csv(\"workloads/incremental/job-full-run-1-cout.csv\")\n",
    "df_run2 = pd.read_csv(\"workloads/incremental/job-full-run-2-cout.csv\")\n",
    "df_run3 = pd.read_csv(\"workloads/incremental/job-full-run-3-cout.csv\")\n",
    "df_run1[\"run\"] = 1\n",
    "df_run1.plan = df_run1.plan.apply(json.loads)\n",
    "df_run2[\"run\"] = 2\n",
    "df_run2.plan = df_run2.plan.apply(json.loads)\n",
    "df_run3[\"run\"] = 3\n",
    "df_run3.plan = df_run3.plan.apply(json.loads)\n",
    "df_aqo = pd.concat([df_run1, df_run2, df_run3])\n",
    "df_aqo"
   ]
  },
  {
   "cell_type": "code",
   "execution_count": 3,
   "metadata": {},
   "outputs": [],
   "source": [
    "df_baseline = pd.read_csv(\"../ues/workloads/job-implicit-cout.csv\")\n",
    "df_baseline[\"run\"] = \"baseline\""
   ]
  },
  {
   "cell_type": "markdown",
   "metadata": {},
   "source": [
    "Query with maximum runtime during the first iteration:"
   ]
  },
  {
   "cell_type": "code",
   "execution_count": 4,
   "metadata": {},
   "outputs": [
    {
     "data": {
      "text/html": [
       "<div>\n",
       "<style scoped>\n",
       "    .dataframe tbody tr th:only-of-type {\n",
       "        vertical-align: middle;\n",
       "    }\n",
       "\n",
       "    .dataframe tbody tr th {\n",
       "        vertical-align: top;\n",
       "    }\n",
       "\n",
       "    .dataframe thead th {\n",
       "        text-align: right;\n",
       "    }\n",
       "</style>\n",
       "<table border=\"1\" class=\"dataframe\">\n",
       "  <thead>\n",
       "    <tr style=\"text-align: right;\">\n",
       "      <th></th>\n",
       "      <th>query</th>\n",
       "      <th>cout</th>\n",
       "      <th>plan</th>\n",
       "      <th>t_exec</th>\n",
       "      <th>t_plan</th>\n",
       "      <th>label</th>\n",
       "      <th>run</th>\n",
       "    </tr>\n",
       "  </thead>\n",
       "  <tbody>\n",
       "    <tr>\n",
       "      <th>63</th>\n",
       "      <td>SELECT COUNT(*) FROM complete_cast AS cc, comp...</td>\n",
       "      <td>109305</td>\n",
       "      <td>[{'Plan': {'Node Type': 'Aggregate', 'Strategy...</td>\n",
       "      <td>395029.166</td>\n",
       "      <td>797.454</td>\n",
       "      <td>27a</td>\n",
       "      <td>1</td>\n",
       "    </tr>\n",
       "    <tr>\n",
       "      <th>63</th>\n",
       "      <td>SELECT COUNT(*) FROM complete_cast AS cc, comp...</td>\n",
       "      <td>227911</td>\n",
       "      <td>[{'Plan': {'Node Type': 'Aggregate', 'Strategy...</td>\n",
       "      <td>8843.744</td>\n",
       "      <td>794.242</td>\n",
       "      <td>27a</td>\n",
       "      <td>2</td>\n",
       "    </tr>\n",
       "    <tr>\n",
       "      <th>63</th>\n",
       "      <td>SELECT COUNT(*) FROM complete_cast AS cc, comp...</td>\n",
       "      <td>106677</td>\n",
       "      <td>[{'Plan': {'Node Type': 'Aggregate', 'Strategy...</td>\n",
       "      <td>299218.889</td>\n",
       "      <td>788.212</td>\n",
       "      <td>27a</td>\n",
       "      <td>3</td>\n",
       "    </tr>\n",
       "  </tbody>\n",
       "</table>\n",
       "</div>"
      ],
      "text/plain": [
       "                                                query    cout  \\\n",
       "63  SELECT COUNT(*) FROM complete_cast AS cc, comp...  109305   \n",
       "63  SELECT COUNT(*) FROM complete_cast AS cc, comp...  227911   \n",
       "63  SELECT COUNT(*) FROM complete_cast AS cc, comp...  106677   \n",
       "\n",
       "                                                 plan      t_exec   t_plan  \\\n",
       "63  [{'Plan': {'Node Type': 'Aggregate', 'Strategy...  395029.166  797.454   \n",
       "63  [{'Plan': {'Node Type': 'Aggregate', 'Strategy...    8843.744  794.242   \n",
       "63  [{'Plan': {'Node Type': 'Aggregate', 'Strategy...  299218.889  788.212   \n",
       "\n",
       "   label  run  \n",
       "63   27a    1  \n",
       "63   27a    2  \n",
       "63   27a    3  "
      ]
     },
     "execution_count": 4,
     "metadata": {},
     "output_type": "execute_result"
    }
   ],
   "source": [
    "df_aqo[df_aqo.label.isin(df_run1[df_run1.t_exec == df_run1.t_exec.max()].label)]"
   ]
  },
  {
   "cell_type": "code",
   "execution_count": 5,
   "metadata": {},
   "outputs": [
    {
     "data": {
      "text/html": [
       "<div>\n",
       "<style scoped>\n",
       "    .dataframe tbody tr th:only-of-type {\n",
       "        vertical-align: middle;\n",
       "    }\n",
       "\n",
       "    .dataframe tbody tr th {\n",
       "        vertical-align: top;\n",
       "    }\n",
       "\n",
       "    .dataframe thead th {\n",
       "        text-align: right;\n",
       "    }\n",
       "</style>\n",
       "<table border=\"1\" class=\"dataframe\">\n",
       "  <thead>\n",
       "    <tr style=\"text-align: right;\">\n",
       "      <th></th>\n",
       "      <th>count</th>\n",
       "      <th>mean</th>\n",
       "      <th>std</th>\n",
       "      <th>min</th>\n",
       "      <th>25%</th>\n",
       "      <th>50%</th>\n",
       "      <th>75%</th>\n",
       "      <th>max</th>\n",
       "    </tr>\n",
       "    <tr>\n",
       "      <th>run</th>\n",
       "      <th></th>\n",
       "      <th></th>\n",
       "      <th></th>\n",
       "      <th></th>\n",
       "      <th></th>\n",
       "      <th></th>\n",
       "      <th></th>\n",
       "      <th></th>\n",
       "    </tr>\n",
       "  </thead>\n",
       "  <tbody>\n",
       "    <tr>\n",
       "      <th>1</th>\n",
       "      <td>113.0</td>\n",
       "      <td>21072.411646</td>\n",
       "      <td>42058.050599</td>\n",
       "      <td>794.170</td>\n",
       "      <td>8971.738</td>\n",
       "      <td>14543.107</td>\n",
       "      <td>20091.482</td>\n",
       "      <td>395029.166</td>\n",
       "    </tr>\n",
       "    <tr>\n",
       "      <th>2</th>\n",
       "      <td>113.0</td>\n",
       "      <td>13573.078743</td>\n",
       "      <td>10158.025080</td>\n",
       "      <td>791.983</td>\n",
       "      <td>8451.576</td>\n",
       "      <td>11902.815</td>\n",
       "      <td>19747.033</td>\n",
       "      <td>76928.338</td>\n",
       "    </tr>\n",
       "    <tr>\n",
       "      <th>3</th>\n",
       "      <td>113.0</td>\n",
       "      <td>48604.716097</td>\n",
       "      <td>218978.744631</td>\n",
       "      <td>788.624</td>\n",
       "      <td>8557.865</td>\n",
       "      <td>11987.346</td>\n",
       "      <td>19129.957</td>\n",
       "      <td>1703686.905</td>\n",
       "    </tr>\n",
       "  </tbody>\n",
       "</table>\n",
       "</div>"
      ],
      "text/plain": [
       "     count          mean            std      min       25%        50%  \\\n",
       "run                                                                     \n",
       "1    113.0  21072.411646   42058.050599  794.170  8971.738  14543.107   \n",
       "2    113.0  13573.078743   10158.025080  791.983  8451.576  11902.815   \n",
       "3    113.0  48604.716097  218978.744631  788.624  8557.865  11987.346   \n",
       "\n",
       "           75%          max  \n",
       "run                          \n",
       "1    20091.482   395029.166  \n",
       "2    19747.033    76928.338  \n",
       "3    19129.957  1703686.905  "
      ]
     },
     "execution_count": 5,
     "metadata": {},
     "output_type": "execute_result"
    }
   ],
   "source": [
    "df_aqo.groupby(\"run\").t_exec.describe()"
   ]
  },
  {
   "cell_type": "markdown",
   "metadata": {},
   "source": [
    "## Comparison of the different workload iterations"
   ]
  },
  {
   "cell_type": "code",
   "execution_count": 6,
   "metadata": {},
   "outputs": [],
   "source": [
    "grp_run = df_aqo.groupby(\"run\")"
   ]
  },
  {
   "cell_type": "markdown",
   "metadata": {},
   "source": [
    "Average query execution time (in seconds):"
   ]
  },
  {
   "cell_type": "code",
   "execution_count": 7,
   "metadata": {},
   "outputs": [
    {
     "data": {
      "text/plain": [
       "run\n",
       "1    21.072412\n",
       "2    13.573079\n",
       "3    48.604716\n",
       "Name: mean, dtype: float64"
      ]
     },
     "execution_count": 7,
     "metadata": {},
     "output_type": "execute_result"
    }
   ],
   "source": [
    "grp_run.t_exec.describe()[\"mean\"] / 1000"
   ]
  },
  {
   "cell_type": "markdown",
   "metadata": {},
   "source": [
    "Average query planning time (in seconds):"
   ]
  },
  {
   "cell_type": "code",
   "execution_count": 8,
   "metadata": {
    "scrolled": true
   },
   "outputs": [
    {
     "data": {
      "text/plain": [
       "run\n",
       "1    0.192078\n",
       "2    0.189988\n",
       "3    0.189535\n",
       "Name: mean, dtype: float64"
      ]
     },
     "execution_count": 8,
     "metadata": {},
     "output_type": "execute_result"
    }
   ],
   "source": [
    "grp_run.t_plan.describe()[\"mean\"] / 1000"
   ]
  },
  {
   "cell_type": "markdown",
   "metadata": {},
   "source": [
    "Total workload execution time (**in minutes!**):"
   ]
  },
  {
   "cell_type": "code",
   "execution_count": 9,
   "metadata": {},
   "outputs": [
    {
     "data": {
      "text/plain": [
       "run\n",
       "1    40.048122\n",
       "2    25.920442\n",
       "3    91.895839\n",
       "dtype: float64"
      ]
     },
     "execution_count": 9,
     "metadata": {},
     "output_type": "execute_result"
    }
   ],
   "source": [
    "(grp_run.t_exec.sum() + grp_run.t_plan.sum()) / 60000"
   ]
  },
  {
   "cell_type": "markdown",
   "metadata": {},
   "source": [
    "Distribution of the different execution times:"
   ]
  },
  {
   "cell_type": "code",
   "execution_count": 10,
   "metadata": {},
   "outputs": [
    {
     "data": {
      "image/png": "[encoded data removed]",
      "text/plain": [
       "<Figure size 504x864 with 1 Axes>"
      ]
     },
     "metadata": {},
     "output_type": "display_data"
    }
   ],
   "source": [
    "fig, ax = plt.subplots(figsize=(7,12))\n",
    "g = sns.boxplot(data=df_aqo, y=\"t_exec\", x=\"run\", ax=ax)\n",
    "g.set_yscale(\"log\")"
   ]
  },
  {
   "cell_type": "markdown",
   "metadata": {},
   "source": [
    "## Why do runtimes increase so much for the final run?"
   ]
  },
  {
   "cell_type": "code",
   "execution_count": 11,
   "metadata": {},
   "outputs": [],
   "source": [
    "grp_query = df_aqo.groupby(\"label\")"
   ]
  },
  {
   "cell_type": "code",
   "execution_count": 12,
   "metadata": {},
   "outputs": [],
   "source": [
    "def t_exec_increase(grp):\n",
    "    init_t_exec = grp[grp.run == 1].t_exec\n",
    "    final_t_exec = grp[grp.run == 3].t_exec\n",
    "    return final_t_exec / init_t_exec"
   ]
  },
  {
   "cell_type": "markdown",
   "metadata": {},
   "source": [
    "First up, compare how much the runtimes actually increase between first and third run:"
   ]
  },
  {
   "cell_type": "code",
   "execution_count": 13,
   "metadata": {
    "scrolled": true
   },
   "outputs": [
    {
     "data": {
      "text/plain": [
       "count    113.000000\n",
       "mean       1.946048\n",
       "std        6.187333\n",
       "min        0.121757\n",
       "25%        0.872765\n",
       "50%        0.978664\n",
       "75%        1.024933\n",
       "max       58.033085\n",
       "Name: t_exec, dtype: float64"
      ]
     },
     "execution_count": 13,
     "metadata": {},
     "output_type": "execute_result"
    }
   ],
   "source": [
    "ser_rt_inc = grp_query.apply(t_exec_increase).reset_index(level=0).set_index(\"label\").squeeze()\n",
    "ser_rt_inc.describe()"
   ]
  },
  {
   "cell_type": "code",
   "execution_count": 14,
   "metadata": {},
   "outputs": [
    {
     "data": {
      "text/html": [
       "<div>\n",
       "<style scoped>\n",
       "    .dataframe tbody tr th:only-of-type {\n",
       "        vertical-align: middle;\n",
       "    }\n",
       "\n",
       "    .dataframe tbody tr th {\n",
       "        vertical-align: top;\n",
       "    }\n",
       "\n",
       "    .dataframe thead th {\n",
       "        text-align: right;\n",
       "    }\n",
       "</style>\n",
       "<table border=\"1\" class=\"dataframe\">\n",
       "  <thead>\n",
       "    <tr style=\"text-align: right;\">\n",
       "      <th></th>\n",
       "      <th>query</th>\n",
       "      <th>cout</th>\n",
       "      <th>plan</th>\n",
       "      <th>t_exec</th>\n",
       "      <th>t_plan</th>\n",
       "      <th>label</th>\n",
       "      <th>run</th>\n",
       "      <th>t_exec_increase</th>\n",
       "    </tr>\n",
       "  </thead>\n",
       "  <tbody>\n",
       "    <tr>\n",
       "      <th>0</th>\n",
       "      <td>SELECT COUNT(*) FROM char_name AS chn, cast_in...</td>\n",
       "      <td>38424</td>\n",
       "      <td>[{'Plan': {'Node Type': 'Aggregate', 'Strategy...</td>\n",
       "      <td>23480.780</td>\n",
       "      <td>110.555</td>\n",
       "      <td>10a</td>\n",
       "      <td>1</td>\n",
       "      <td>0.484103</td>\n",
       "    </tr>\n",
       "    <tr>\n",
       "      <th>1</th>\n",
       "      <td>SELECT COUNT(*) FROM char_name AS chn, cast_in...</td>\n",
       "      <td>4</td>\n",
       "      <td>[{'Plan': {'Node Type': 'Aggregate', 'Strategy...</td>\n",
       "      <td>10420.391</td>\n",
       "      <td>22.254</td>\n",
       "      <td>10b</td>\n",
       "      <td>1</td>\n",
       "      <td>1.004212</td>\n",
       "    </tr>\n",
       "    <tr>\n",
       "      <th>2</th>\n",
       "      <td>SELECT COUNT(*) FROM char_name AS chn, cast_in...</td>\n",
       "      <td>1260587</td>\n",
       "      <td>[{'Plan': {'Node Type': 'Aggregate', 'Strategy...</td>\n",
       "      <td>19898.561</td>\n",
       "      <td>7.607</td>\n",
       "      <td>10c</td>\n",
       "      <td>1</td>\n",
       "      <td>0.710340</td>\n",
       "    </tr>\n",
       "    <tr>\n",
       "      <th>3</th>\n",
       "      <td>SELECT COUNT(*) FROM company_name AS cn, compa...</td>\n",
       "      <td>403299</td>\n",
       "      <td>[{'Plan': {'Node Type': 'Aggregate', 'Strategy...</td>\n",
       "      <td>3835.188</td>\n",
       "      <td>72.951</td>\n",
       "      <td>11a</td>\n",
       "      <td>1</td>\n",
       "      <td>0.524268</td>\n",
       "    </tr>\n",
       "    <tr>\n",
       "      <th>4</th>\n",
       "      <td>SELECT COUNT(*) FROM company_name AS cn, compa...</td>\n",
       "      <td>1301</td>\n",
       "      <td>[{'Plan': {'Node Type': 'Aggregate', 'Strategy...</td>\n",
       "      <td>19560.226</td>\n",
       "      <td>15.755</td>\n",
       "      <td>11b</td>\n",
       "      <td>1</td>\n",
       "      <td>0.121757</td>\n",
       "    </tr>\n",
       "    <tr>\n",
       "      <th>...</th>\n",
       "      <td>...</td>\n",
       "      <td>...</td>\n",
       "      <td>...</td>\n",
       "      <td>...</td>\n",
       "      <td>...</td>\n",
       "      <td>...</td>\n",
       "      <td>...</td>\n",
       "      <td>...</td>\n",
       "    </tr>\n",
       "    <tr>\n",
       "      <th>108</th>\n",
       "      <td>SELECT COUNT(*) FROM aka_name AS an1, cast_inf...</td>\n",
       "      <td>872726</td>\n",
       "      <td>[{'Plan': {'Node Type': 'Aggregate', 'Strategy...</td>\n",
       "      <td>15853.688</td>\n",
       "      <td>6.219</td>\n",
       "      <td>8d</td>\n",
       "      <td>3</td>\n",
       "      <td>0.808406</td>\n",
       "    </tr>\n",
       "    <tr>\n",
       "      <th>109</th>\n",
       "      <td>SELECT COUNT(*) FROM aka_name AS an, char_name...</td>\n",
       "      <td>403264</td>\n",
       "      <td>[{'Plan': {'Node Type': 'Aggregate', 'Strategy...</td>\n",
       "      <td>14105.930</td>\n",
       "      <td>18.249</td>\n",
       "      <td>9a</td>\n",
       "      <td>3</td>\n",
       "      <td>1.074978</td>\n",
       "    </tr>\n",
       "    <tr>\n",
       "      <th>110</th>\n",
       "      <td>SELECT COUNT(*) FROM aka_name AS an, char_name...</td>\n",
       "      <td>138596</td>\n",
       "      <td>[{'Plan': {'Node Type': 'Aggregate', 'Strategy...</td>\n",
       "      <td>12357.023</td>\n",
       "      <td>15.859</td>\n",
       "      <td>9b</td>\n",
       "      <td>3</td>\n",
       "      <td>1.025814</td>\n",
       "    </tr>\n",
       "    <tr>\n",
       "      <th>111</th>\n",
       "      <td>SELECT COUNT(*) FROM aka_name AS an, char_name...</td>\n",
       "      <td>276606</td>\n",
       "      <td>[{'Plan': {'Node Type': 'Aggregate', 'Strategy...</td>\n",
       "      <td>13456.577</td>\n",
       "      <td>11.716</td>\n",
       "      <td>9c</td>\n",
       "      <td>3</td>\n",
       "      <td>0.905402</td>\n",
       "    </tr>\n",
       "    <tr>\n",
       "      <th>112</th>\n",
       "      <td>SELECT COUNT(*) FROM aka_name AS an, char_name...</td>\n",
       "      <td>1213881</td>\n",
       "      <td>[{'Plan': {'Node Type': 'Aggregate', 'Strategy...</td>\n",
       "      <td>17371.718</td>\n",
       "      <td>13.084</td>\n",
       "      <td>9d</td>\n",
       "      <td>3</td>\n",
       "      <td>0.973346</td>\n",
       "    </tr>\n",
       "  </tbody>\n",
       "</table>\n",
       "<p>339 rows × 8 columns</p>\n",
       "</div>"
      ],
      "text/plain": [
       "                                                 query     cout  \\\n",
       "0    SELECT COUNT(*) FROM char_name AS chn, cast_in...    38424   \n",
       "1    SELECT COUNT(*) FROM char_name AS chn, cast_in...        4   \n",
       "2    SELECT COUNT(*) FROM char_name AS chn, cast_in...  1260587   \n",
       "3    SELECT COUNT(*) FROM company_name AS cn, compa...   403299   \n",
       "4    SELECT COUNT(*) FROM company_name AS cn, compa...     1301   \n",
       "..                                                 ...      ...   \n",
       "108  SELECT COUNT(*) FROM aka_name AS an1, cast_inf...   872726   \n",
       "109  SELECT COUNT(*) FROM aka_name AS an, char_name...   403264   \n",
       "110  SELECT COUNT(*) FROM aka_name AS an, char_name...   138596   \n",
       "111  SELECT COUNT(*) FROM aka_name AS an, char_name...   276606   \n",
       "112  SELECT COUNT(*) FROM aka_name AS an, char_name...  1213881   \n",
       "\n",
       "                                                  plan     t_exec   t_plan  \\\n",
       "0    [{'Plan': {'Node Type': 'Aggregate', 'Strategy...  23480.780  110.555   \n",
       "1    [{'Plan': {'Node Type': 'Aggregate', 'Strategy...  10420.391   22.254   \n",
       "2    [{'Plan': {'Node Type': 'Aggregate', 'Strategy...  19898.561    7.607   \n",
       "3    [{'Plan': {'Node Type': 'Aggregate', 'Strategy...   3835.188   72.951   \n",
       "4    [{'Plan': {'Node Type': 'Aggregate', 'Strategy...  19560.226   15.755   \n",
       "..                                                 ...        ...      ...   \n",
       "108  [{'Plan': {'Node Type': 'Aggregate', 'Strategy...  15853.688    6.219   \n",
       "109  [{'Plan': {'Node Type': 'Aggregate', 'Strategy...  14105.930   18.249   \n",
       "110  [{'Plan': {'Node Type': 'Aggregate', 'Strategy...  12357.023   15.859   \n",
       "111  [{'Plan': {'Node Type': 'Aggregate', 'Strategy...  13456.577   11.716   \n",
       "112  [{'Plan': {'Node Type': 'Aggregate', 'Strategy...  17371.718   13.084   \n",
       "\n",
       "    label  run  t_exec_increase  \n",
       "0     10a    1         0.484103  \n",
       "1     10b    1         1.004212  \n",
       "2     10c    1         0.710340  \n",
       "3     11a    1         0.524268  \n",
       "4     11b    1         0.121757  \n",
       "..    ...  ...              ...  \n",
       "108    8d    3         0.808406  \n",
       "109    9a    3         1.074978  \n",
       "110    9b    3         1.025814  \n",
       "111    9c    3         0.905402  \n",
       "112    9d    3         0.973346  \n",
       "\n",
       "[339 rows x 8 columns]"
      ]
     },
     "execution_count": 14,
     "metadata": {},
     "output_type": "execute_result"
    }
   ],
   "source": [
    "df_aqo = df_aqo.join(ser_rt_inc, on=\"label\", rsuffix=\"_increase\")\n",
    "df_aqo"
   ]
  },
  {
   "cell_type": "code",
   "execution_count": 15,
   "metadata": {},
   "outputs": [],
   "source": [
    "def qerror(actual, expected):\n",
    "    data = np.asarray([actual, expected])\n",
    "    return (np.max(data, axis=0)+1) / (np.min(data, axis=0)+1)"
   ]
  },
  {
   "cell_type": "code",
   "execution_count": 16,
   "metadata": {},
   "outputs": [],
   "source": [
    "def extract_planned_rows(plan):\n",
    "    node = plan[0][\"Plan\"]\n",
    "    while node[\"Node Type\"] == \"Aggregate\" or node[\"Node Type\"] == \"Gather\":\n",
    "        node = node[\"Plans\"][0]\n",
    "    return node[\"Plan Rows\"], node[\"Actual Rows\"]"
   ]
  },
  {
   "cell_type": "code",
   "execution_count": 17,
   "metadata": {},
   "outputs": [],
   "source": [
    "optimizer_estimates = df_aqo.plan.apply(extract_planned_rows)\n",
    "planned_rows = [est[0] for est in optimizer_estimates]\n",
    "actual_rows = [est[1] for est in optimizer_estimates]\n",
    "df_aqo[\"qerror\"] = qerror(actual_rows, planned_rows)"
   ]
  },
  {
   "cell_type": "markdown",
   "metadata": {},
   "source": [
    "The large increase in execution time is caused by a couple of outliers:"
   ]
  },
  {
   "cell_type": "code",
   "execution_count": 18,
   "metadata": {},
   "outputs": [
    {
     "data": {
      "image/png": "[encoded data removed]",
      "text/plain": [
       "<Figure size 1296x576 with 3 Axes>"
      ]
     },
     "metadata": {},
     "output_type": "display_data"
    }
   ],
   "source": [
    "fig, (ax_t_exec, ax_cout, ax_qerror) = plt.subplots(nrows=1, ncols=3, figsize=(18,8))\n",
    "g = sns.boxplot(data=pd.concat([df_aqo, df_baseline]), x=\"run\", y=\"t_exec\", ax=ax_t_exec)\n",
    "g.set_yscale(\"log\")\n",
    "g = sns.boxplot(data=df_aqo, x=\"run\", y=\"cout\", ax=ax_cout)\n",
    "g.set_yscale(\"log\")\n",
    "g = sns.boxplot(data=df_aqo, x=\"run\", y=\"qerror\", ax=ax_qerror)\n",
    "g.set_yscale(\"log\")"
   ]
  },
  {
   "cell_type": "markdown",
   "metadata": {},
   "source": [
    "## Take a closer look at queries with very long runtimes\n",
    "\n",
    "First up, the query with the longest runtime:"
   ]
  },
  {
   "cell_type": "code",
   "execution_count": 21,
   "metadata": {
    "scrolled": false
   },
   "outputs": [
    {
     "data": {
      "text/html": [
       "<div>\n",
       "<style scoped>\n",
       "    .dataframe tbody tr th:only-of-type {\n",
       "        vertical-align: middle;\n",
       "    }\n",
       "\n",
       "    .dataframe tbody tr th {\n",
       "        vertical-align: top;\n",
       "    }\n",
       "\n",
       "    .dataframe thead th {\n",
       "        text-align: right;\n",
       "    }\n",
       "</style>\n",
       "<table border=\"1\" class=\"dataframe\">\n",
       "  <thead>\n",
       "    <tr style=\"text-align: right;\">\n",
       "      <th></th>\n",
       "      <th>query</th>\n",
       "      <th>cout</th>\n",
       "      <th>plan</th>\n",
       "      <th>t_exec</th>\n",
       "      <th>t_plan</th>\n",
       "      <th>label</th>\n",
       "      <th>run</th>\n",
       "      <th>t_exec_increase</th>\n",
       "      <th>qerror</th>\n",
       "    </tr>\n",
       "  </thead>\n",
       "  <tbody>\n",
       "    <tr>\n",
       "      <th>65</th>\n",
       "      <td>SELECT COUNT(*) FROM complete_cast AS cc, comp...</td>\n",
       "      <td>97490</td>\n",
       "      <td>[{'Plan': {'Node Type': 'Aggregate', 'Strategy...</td>\n",
       "      <td>1703686.905</td>\n",
       "      <td>788.671</td>\n",
       "      <td>27c</td>\n",
       "      <td>3</td>\n",
       "      <td>8.383284</td>\n",
       "      <td>1.0</td>\n",
       "    </tr>\n",
       "  </tbody>\n",
       "</table>\n",
       "</div>"
      ],
      "text/plain": [
       "                                                query   cout  \\\n",
       "65  SELECT COUNT(*) FROM complete_cast AS cc, comp...  97490   \n",
       "\n",
       "                                                 plan       t_exec   t_plan  \\\n",
       "65  [{'Plan': {'Node Type': 'Aggregate', 'Strategy...  1703686.905  788.671   \n",
       "\n",
       "   label  run  t_exec_increase  qerror  \n",
       "65   27c    3         8.383284     1.0  "
      ]
     },
     "execution_count": 21,
     "metadata": {},
     "output_type": "execute_result"
    }
   ],
   "source": [
    "q_max = select(df_aqo, t_exec=df_aqo.t_exec.max())\n",
    "q_max"
   ]
  },
  {
   "cell_type": "markdown",
   "metadata": {},
   "source": [
    "It's runtime in a human-readable format [minutes]:"
   ]
  },
  {
   "cell_type": "code",
   "execution_count": 22,
   "metadata": {
    "scrolled": false
   },
   "outputs": [
    {
     "data": {
      "text/plain": [
       "65    28.394782\n",
       "Name: t_exec, dtype: float64"
      ]
     },
     "execution_count": 22,
     "metadata": {},
     "output_type": "execute_result"
    }
   ],
   "source": [
    "q_max.t_exec / 60000"
   ]
  },
  {
   "cell_type": "markdown",
   "metadata": {},
   "source": [
    "The runtime of that query during the first iteration:"
   ]
  },
  {
   "cell_type": "code",
   "execution_count": 23,
   "metadata": {},
   "outputs": [
    {
     "data": {
      "text/plain": [
       "65    3.387072\n",
       "Name: t_exec, dtype: float64"
      ]
     },
     "execution_count": 23,
     "metadata": {},
     "output_type": "execute_result"
    }
   ],
   "source": [
    "select(df_aqo, run=1, label=unwrap(q_max.label)).t_exec / 60000"
   ]
  },
  {
   "cell_type": "code",
   "execution_count": 24,
   "metadata": {
    "scrolled": true
   },
   "outputs": [
    {
     "data": {
      "text/html": [
       "<div>\n",
       "<style scoped>\n",
       "    .dataframe tbody tr th:only-of-type {\n",
       "        vertical-align: middle;\n",
       "    }\n",
       "\n",
       "    .dataframe tbody tr th {\n",
       "        vertical-align: top;\n",
       "    }\n",
       "\n",
       "    .dataframe thead th {\n",
       "        text-align: right;\n",
       "    }\n",
       "</style>\n",
       "<table border=\"1\" class=\"dataframe\">\n",
       "  <thead>\n",
       "    <tr style=\"text-align: right;\">\n",
       "      <th></th>\n",
       "      <th>query</th>\n",
       "      <th>cout</th>\n",
       "      <th>plan</th>\n",
       "      <th>t_exec</th>\n",
       "      <th>t_plan</th>\n",
       "      <th>label</th>\n",
       "      <th>run</th>\n",
       "      <th>t_exec_increase</th>\n",
       "      <th>qerror</th>\n",
       "    </tr>\n",
       "  </thead>\n",
       "  <tbody>\n",
       "    <tr>\n",
       "      <th>65</th>\n",
       "      <td>SELECT COUNT(*) FROM complete_cast AS cc, comp...</td>\n",
       "      <td>5571</td>\n",
       "      <td>[{'Plan': {'Node Type': 'Aggregate', 'Strategy...</td>\n",
       "      <td>203224.293</td>\n",
       "      <td>788.804</td>\n",
       "      <td>27c</td>\n",
       "      <td>1</td>\n",
       "      <td>8.383284</td>\n",
       "      <td>372.0</td>\n",
       "    </tr>\n",
       "    <tr>\n",
       "      <th>65</th>\n",
       "      <td>SELECT COUNT(*) FROM complete_cast AS cc, comp...</td>\n",
       "      <td>142739</td>\n",
       "      <td>[{'Plan': {'Node Type': 'Aggregate', 'Strategy...</td>\n",
       "      <td>8990.394</td>\n",
       "      <td>789.300</td>\n",
       "      <td>27c</td>\n",
       "      <td>2</td>\n",
       "      <td>8.383284</td>\n",
       "      <td>124.5</td>\n",
       "    </tr>\n",
       "    <tr>\n",
       "      <th>65</th>\n",
       "      <td>SELECT COUNT(*) FROM complete_cast AS cc, comp...</td>\n",
       "      <td>97490</td>\n",
       "      <td>[{'Plan': {'Node Type': 'Aggregate', 'Strategy...</td>\n",
       "      <td>1703686.905</td>\n",
       "      <td>788.671</td>\n",
       "      <td>27c</td>\n",
       "      <td>3</td>\n",
       "      <td>8.383284</td>\n",
       "      <td>1.0</td>\n",
       "    </tr>\n",
       "  </tbody>\n",
       "</table>\n",
       "</div>"
      ],
      "text/plain": [
       "                                                query    cout  \\\n",
       "65  SELECT COUNT(*) FROM complete_cast AS cc, comp...    5571   \n",
       "65  SELECT COUNT(*) FROM complete_cast AS cc, comp...  142739   \n",
       "65  SELECT COUNT(*) FROM complete_cast AS cc, comp...   97490   \n",
       "\n",
       "                                                 plan       t_exec   t_plan  \\\n",
       "65  [{'Plan': {'Node Type': 'Aggregate', 'Strategy...   203224.293  788.804   \n",
       "65  [{'Plan': {'Node Type': 'Aggregate', 'Strategy...     8990.394  789.300   \n",
       "65  [{'Plan': {'Node Type': 'Aggregate', 'Strategy...  1703686.905  788.671   \n",
       "\n",
       "   label  run  t_exec_increase  qerror  \n",
       "65   27c    1         8.383284   372.0  \n",
       "65   27c    2         8.383284   124.5  \n",
       "65   27c    3         8.383284     1.0  "
      ]
     },
     "execution_count": 24,
     "metadata": {},
     "output_type": "execute_result"
    }
   ],
   "source": [
    "select(df_aqo, label=unwrap(q_max.label))"
   ]
  },
  {
   "cell_type": "code",
   "execution_count": 25,
   "metadata": {},
   "outputs": [
    {
     "ename": "NameError",
     "evalue": "name 'df3' is not defined",
     "output_type": "error",
     "traceback": [
      "\u001b[0;31m---------------------------------------------------------------------------\u001b[0m",
      "\u001b[0;31mNameError\u001b[0m                                 Traceback (most recent call last)",
      "\u001b[0;32m<ipython-input-25-bc33d2912146>\u001b[0m in \u001b[0;36m<module>\u001b[0;34m\u001b[0m\n\u001b[0;32m----> 1\u001b[0;31m \u001b[0mdf3_out\u001b[0m \u001b[0;34m=\u001b[0m \u001b[0mdf3\u001b[0m\u001b[0;34m[\u001b[0m\u001b[0mdf3\u001b[0m\u001b[0;34m.\u001b[0m\u001b[0mt_exec\u001b[0m \u001b[0;34m>\u001b[0m \u001b[0mdf3\u001b[0m\u001b[0;34m.\u001b[0m\u001b[0mt_exec\u001b[0m\u001b[0;34m.\u001b[0m\u001b[0mquantile\u001b[0m\u001b[0;34m(\u001b[0m\u001b[0mq\u001b[0m\u001b[0;34m=\u001b[0m\u001b[0;36m0.9\u001b[0m\u001b[0;34m)\u001b[0m\u001b[0;34m]\u001b[0m\u001b[0;34m\u001b[0m\u001b[0m\n\u001b[0m\u001b[1;32m      2\u001b[0m \u001b[0mdf_out\u001b[0m \u001b[0;34m=\u001b[0m \u001b[0mdf_aqo\u001b[0m\u001b[0;34m[\u001b[0m\u001b[0mdf_aqo\u001b[0m\u001b[0;34m.\u001b[0m\u001b[0mlabel\u001b[0m\u001b[0;34m.\u001b[0m\u001b[0misin\u001b[0m\u001b[0;34m(\u001b[0m\u001b[0mdf3_out\u001b[0m\u001b[0;34m.\u001b[0m\u001b[0mlabel\u001b[0m\u001b[0;34m)\u001b[0m\u001b[0;34m]\u001b[0m\u001b[0;34m.\u001b[0m\u001b[0mreset_index\u001b[0m\u001b[0;34m(\u001b[0m\u001b[0;34m)\u001b[0m\u001b[0;34m\u001b[0m\u001b[0m\n",
      "\u001b[0;31mNameError\u001b[0m: name 'df3' is not defined"
     ]
    }
   ],
   "source": [
    "df_run3_out = df_run3[df3.t_exec > df3.t_exec.quantile(q=0.9)]\n",
    "df_out = df_aqo[df_aqo.label.isin(df3_out.label)].reset_index()"
   ]
  },
  {
   "cell_type": "code",
   "execution_count": 33,
   "metadata": {},
   "outputs": [
    {
     "data": {
      "text/plain": [
       "[<matplotlib.axis.XTick at 0x7f5160a87040>,\n",
       " <matplotlib.axis.XTick at 0x7f5160a87c70>,\n",
       " <matplotlib.axis.XTick at 0x7f51e4245970>]"
      ]
     },
     "execution_count": 33,
     "metadata": {},
     "output_type": "execute_result"
    },
    {
     "data": {
      "image/png": "[encoded data removed]",
      "text/plain": [
       "<Figure size 864x576 with 1 Axes>"
      ]
     },
     "metadata": {},
     "output_type": "display_data"
    }
   ],
   "source": [
    "fig, ax = plt.subplots(figsize=(12,8))\n",
    "g = sns.lineplot(data=df_out, x=\"run\", y=\"t_exec\", hue=\"label\", ax=ax)\n",
    "g.set_yscale(\"log\")\n",
    "g.set_xticks([1, 2, 3])"
   ]
  }
 ],
 "metadata": {
  "kernelspec": {
   "display_name": "Python 3",
   "language": "python",
   "name": "python3"
  },
  "language_info": {
   "codemirror_mode": {
    "name": "ipython",
    "version": 3
   },
   "file_extension": ".py",
   "mimetype": "text/x-python",
   "name": "python",
   "nbconvert_exporter": "python",
   "pygments_lexer": "ipython3",
   "version": "3.7.0"
  }
 },
 "nbformat": 4,
 "nbformat_minor": 5
}
