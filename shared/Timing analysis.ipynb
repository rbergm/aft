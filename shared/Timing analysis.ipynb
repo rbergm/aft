{
 "cells": [
  {
   "cell_type": "markdown",
   "metadata": {},
   "source": [
    "# Timing analysis"
   ]
  },
  {
   "cell_type": "code",
   "execution_count": 1,
   "metadata": {},
   "outputs": [],
   "source": [
    "import datetime\n",
    "import os\n",
    "import sys\n",
    "\n",
    "import matplotlib.pyplot as plt\n",
    "import numpy as np\n",
    "import pandas as pd\n",
    "import seaborn as sns\n",
    "\n",
    "sns.set_style(\"whitegrid\")"
   ]
  },
  {
   "cell_type": "code",
   "execution_count": 2,
   "metadata": {},
   "outputs": [],
   "source": [
    "os.chdir(\"..\")\n",
    "utils_path = \"utils/\"\n",
    "if not utils_path in sys.path:\n",
    "    sys.path.insert(0, utils_path)\n",
    "from helper import *"
   ]
  },
  {
   "cell_type": "markdown",
   "metadata": {},
   "source": [
    "## Data loading"
   ]
  },
  {
   "cell_type": "code",
   "execution_count": 3,
   "metadata": {},
   "outputs": [],
   "source": [
    "def duration_to_timedelta(duration):\n",
    "    duration_comps = duration.split(\":\")\n",
    "    if len(duration_comps) > 2:\n",
    "        hours, minutes, seconds = duration_comps[-3], duration_comps[-2], duration_comps[-1]\n",
    "    else:\n",
    "        hours, (minutes, seconds) = (0, duration_comps)\n",
    "    return pd.Timedelta(hours=float(hours), minutes=float(minutes), seconds=float(seconds))"
   ]
  },
  {
   "cell_type": "code",
   "execution_count": 4,
   "metadata": {},
   "outputs": [],
   "source": [
    "def read_timing_df(src):\n",
    "    return pd.read_csv(src, names=[\"timestamp\", \"run\", \"duration\"], converters={\n",
    "        \"timestamp\": lambda ts: pd.to_datetime(ts, unit=\"s\"),\n",
    "        \"duration\": duration_to_timedelta\n",
    "    })"
   ]
  },
  {
   "cell_type": "code",
   "execution_count": 5,
   "metadata": {},
   "outputs": [],
   "source": [
    "df_baseline = read_timing_df(\"ues/workloads/timing-implicit.csv\")\n",
    "df_baseline[\"workload\"] = \"baseline\"\n",
    "\n",
    "df_ues = read_timing_df(\"ues/workloads/timing-explicit.csv\")\n",
    "df_ues[\"workload\"] = \"ues\"\n",
    "\n",
    "df_bao = read_timing_df(\"pg-bao/workloads/timing-full-train.csv\")\n",
    "df_bao[\"workload\"] = \"bao\"\n",
    "\n",
    "df_bao_nc = read_timing_df(\"pg-bao/workloads/timing-full-train-no-cache.csv\")\n",
    "df_bao_nc[\"workload\"] = \"bao_nocache\"\n",
    "\n",
    "df_bao_all = pd.concat([df_bao, df_bao_nc]).reset_index(drop=True)\n",
    "df_bao_all[\"duration_s\"] = df_bao_all.duration.apply(lambda d: d.seconds)\n",
    "df_bao_all[\"duration_min\"] = df_bao_all.duration_s / 60\n",
    "\n",
    "df_all = pd.concat([df_baseline, df_ues, df_bao, df_bao_nc]).reset_index(drop=True)\n",
    "df_all[\"duration_s\"] = df_all.duration.apply(lambda d: d.seconds)\n",
    "df_all[\"duration_min\"] = df_all.duration_s / 60"
   ]
  },
  {
   "cell_type": "markdown",
   "metadata": {},
   "source": [
    "## \"Evaluation\"\n",
    "\n",
    "**Careful!** The absolute values of the different workload durations can not be compared! Each workload executes differently - a BAO workload consist of three iterations over the input queries, whereas baseline/UES only iterate once over the input queries."
   ]
  },
  {
   "cell_type": "code",
   "execution_count": 6,
   "metadata": {},
   "outputs": [
    {
     "data": {
      "text/html": [
       "<div>\n",
       "<style scoped>\n",
       "    .dataframe tbody tr th:only-of-type {\n",
       "        vertical-align: middle;\n",
       "    }\n",
       "\n",
       "    .dataframe tbody tr th {\n",
       "        vertical-align: top;\n",
       "    }\n",
       "\n",
       "    .dataframe thead th {\n",
       "        text-align: right;\n",
       "    }\n",
       "</style>\n",
       "<table border=\"1\" class=\"dataframe\">\n",
       "  <thead>\n",
       "    <tr style=\"text-align: right;\">\n",
       "      <th></th>\n",
       "      <th>mean</th>\n",
       "      <th>std</th>\n",
       "      <th>min</th>\n",
       "      <th>max</th>\n",
       "    </tr>\n",
       "    <tr>\n",
       "      <th>workload</th>\n",
       "      <th></th>\n",
       "      <th></th>\n",
       "      <th></th>\n",
       "      <th></th>\n",
       "    </tr>\n",
       "  </thead>\n",
       "  <tbody>\n",
       "    <tr>\n",
       "      <th>bao</th>\n",
       "      <td>39.566667</td>\n",
       "      <td>2.386740</td>\n",
       "      <td>36.800000</td>\n",
       "      <td>43.350000</td>\n",
       "    </tr>\n",
       "    <tr>\n",
       "      <th>bao_nocache</th>\n",
       "      <td>40.306667</td>\n",
       "      <td>1.634889</td>\n",
       "      <td>37.783333</td>\n",
       "      <td>41.650000</td>\n",
       "    </tr>\n",
       "    <tr>\n",
       "      <th>baseline</th>\n",
       "      <td>8.386667</td>\n",
       "      <td>0.730810</td>\n",
       "      <td>7.866667</td>\n",
       "      <td>9.666667</td>\n",
       "    </tr>\n",
       "    <tr>\n",
       "      <th>ues</th>\n",
       "      <td>5.006667</td>\n",
       "      <td>0.657816</td>\n",
       "      <td>4.700000</td>\n",
       "      <td>6.183333</td>\n",
       "    </tr>\n",
       "  </tbody>\n",
       "</table>\n",
       "</div>"
      ],
      "text/plain": [
       "                  mean       std        min        max\n",
       "workload                                              \n",
       "bao          39.566667  2.386740  36.800000  43.350000\n",
       "bao_nocache  40.306667  1.634889  37.783333  41.650000\n",
       "baseline      8.386667  0.730810   7.866667   9.666667\n",
       "ues           5.006667  0.657816   4.700000   6.183333"
      ]
     },
     "execution_count": 6,
     "metadata": {},
     "output_type": "execute_result"
    }
   ],
   "source": [
    "df_all.groupby(\"workload\")[\"duration_min\"].describe()[[\"mean\", \"std\", \"min\", \"max\"]]"
   ]
  },
  {
   "cell_type": "markdown",
   "metadata": {},
   "source": [
    "Runtimes of the different BAO setups:"
   ]
  },
  {
   "cell_type": "code",
   "execution_count": 7,
   "metadata": {},
   "outputs": [
    {
     "name": "stdout",
     "output_type": "stream",
     "text": [
      "=== bao\n",
      "[36.8, 38.666666666666664, 39.483333333333334, 39.53333333333333, 43.35]\n",
      "=== bao_nocache\n",
      "[37.78333333333333, 39.53333333333333, 41.2, 41.36666666666667, 41.65]\n"
     ]
    }
   ],
   "source": [
    "for workload, durations in df_bao_all.groupby(\"workload\")[\"duration_min\"]:\n",
    "    print(\"===\", workload)\n",
    "    print(sorted(durations.unique()))"
   ]
  }
 ],
 "metadata": {
  "kernelspec": {
   "display_name": "Python 3 (ipykernel)",
   "language": "python",
   "name": "python3"
  },
  "language_info": {
   "codemirror_mode": {
    "name": "ipython",
    "version": 3
   },
   "file_extension": ".py",
   "mimetype": "text/x-python",
   "name": "python",
   "nbconvert_exporter": "python",
   "pygments_lexer": "ipython3",
   "version": "3.8.10"
  }
 },
 "nbformat": 4,
 "nbformat_minor": 4
}
