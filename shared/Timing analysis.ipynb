{
 "cells": [
  {
   "cell_type": "markdown",
   "metadata": {},
   "source": [
    "# Timing analysis"
   ]
  },
  {
   "cell_type": "code",
   "execution_count": 1,
   "metadata": {},
   "outputs": [],
   "source": [
    "import datetime\n",
    "import os\n",
    "import sys\n",
    "\n",
    "import matplotlib.pyplot as plt\n",
    "import numpy as np\n",
    "import pandas as pd\n",
    "import seaborn as sns\n",
    "\n",
    "sns.set_style(\"whitegrid\")"
   ]
  },
  {
   "cell_type": "code",
   "execution_count": 2,
   "metadata": {},
   "outputs": [],
   "source": [
    "os.chdir(\"..\")\n",
    "utils_path = \"utils/\"\n",
    "if not utils_path in sys.path:\n",
    "    sys.path.insert(0, utils_path)\n",
    "from helper import *"
   ]
  },
  {
   "cell_type": "markdown",
   "metadata": {},
   "source": [
    "## Data loading"
   ]
  },
  {
   "cell_type": "code",
   "execution_count": 3,
   "metadata": {},
   "outputs": [],
   "source": [
    "def duration_to_timedelta(duration):\n",
    "    duration_comps = duration.split(\":\")\n",
    "    if len(duration_comps) > 2:\n",
    "        hours, minutes, seconds = duration_comps[-3], duration_comps[-2], duration_comps[-1]\n",
    "    else:\n",
    "        hours, (minutes, seconds) = (0, duration_comps)\n",
    "    return pd.Timedelta(hours=float(hours), minutes=float(minutes), seconds=float(seconds))"
   ]
  },
  {
   "cell_type": "code",
   "execution_count": 4,
   "metadata": {},
   "outputs": [],
   "source": [
    "def read_timing_df(src):\n",
    "    return pd.read_csv(src, names=[\"timestamp\", \"run\", \"duration\"], converters={\n",
    "        \"timestamp\": lambda ts: pd.to_datetime(ts, unit=\"s\"),\n",
    "        \"duration\": duration_to_timedelta\n",
    "    })"
   ]
  },
  {
   "cell_type": "code",
   "execution_count": 5,
   "metadata": {},
   "outputs": [],
   "source": [
    "df_baseline = read_timing_df(\"ues/workloads/timing-implicit.csv\")\n",
    "df_baseline[\"workload\"] = \"baseline\"\n",
    "\n",
    "df_ues = read_timing_df(\"ues/workloads/timing-explicit.csv\")\n",
    "df_ues[\"workload\"] = \"ues\"\n",
    "\n",
    "df_bao = read_timing_df(\"pg-bao/workloads/timing.csv\")\n",
    "df_bao[\"workload\"] = \"bao\"\n",
    "\n",
    "df_all = pd.concat([df_baseline, df_ues, df_bao])\n",
    "df_all[\"duration_s\"] = df_all.duration.apply(lambda d: d.seconds)"
   ]
  },
  {
   "cell_type": "markdown",
   "metadata": {},
   "source": [
    "**Careful!** The absolute values of the different workload durations can not be compared! Each workload executes differently - a BAO workload consist of three iterations over the input queries, whereas baseline/UES only iterate once over the input queries."
   ]
  },
  {
   "cell_type": "code",
   "execution_count": 6,
   "metadata": {},
   "outputs": [
    {
     "data": {
      "text/html": [
       "<div>\n",
       "<style scoped>\n",
       "    .dataframe tbody tr th:only-of-type {\n",
       "        vertical-align: middle;\n",
       "    }\n",
       "\n",
       "    .dataframe tbody tr th {\n",
       "        vertical-align: top;\n",
       "    }\n",
       "\n",
       "    .dataframe thead th {\n",
       "        text-align: right;\n",
       "    }\n",
       "</style>\n",
       "<table border=\"1\" class=\"dataframe\">\n",
       "  <thead>\n",
       "    <tr style=\"text-align: right;\">\n",
       "      <th></th>\n",
       "      <th>mean</th>\n",
       "      <th>std</th>\n",
       "      <th>min</th>\n",
       "      <th>max</th>\n",
       "    </tr>\n",
       "    <tr>\n",
       "      <th>workload</th>\n",
       "      <th></th>\n",
       "      <th></th>\n",
       "      <th></th>\n",
       "      <th></th>\n",
       "    </tr>\n",
       "  </thead>\n",
       "  <tbody>\n",
       "    <tr>\n",
       "      <th>bao</th>\n",
       "      <td>2377.0</td>\n",
       "      <td>132.657454</td>\n",
       "      <td>2201.0</td>\n",
       "      <td>2537.0</td>\n",
       "    </tr>\n",
       "    <tr>\n",
       "      <th>baseline</th>\n",
       "      <td>503.2</td>\n",
       "      <td>43.848603</td>\n",
       "      <td>472.0</td>\n",
       "      <td>580.0</td>\n",
       "    </tr>\n",
       "    <tr>\n",
       "      <th>ues</th>\n",
       "      <td>300.4</td>\n",
       "      <td>39.468975</td>\n",
       "      <td>282.0</td>\n",
       "      <td>371.0</td>\n",
       "    </tr>\n",
       "  </tbody>\n",
       "</table>\n",
       "</div>"
      ],
      "text/plain": [
       "            mean         std     min     max\n",
       "workload                                    \n",
       "bao       2377.0  132.657454  2201.0  2537.0\n",
       "baseline   503.2   43.848603   472.0   580.0\n",
       "ues        300.4   39.468975   282.0   371.0"
      ]
     },
     "execution_count": 6,
     "metadata": {},
     "output_type": "execute_result"
    }
   ],
   "source": [
    "df_all.groupby(\"workload\")[\"duration_s\"].describe()[[\"mean\", \"std\", \"min\", \"max\"]]"
   ]
  }
 ],
 "metadata": {
  "kernelspec": {
   "display_name": "Python 3 (ipykernel)",
   "language": "python",
   "name": "python3"
  },
  "language_info": {
   "codemirror_mode": {
    "name": "ipython",
    "version": 3
   },
   "file_extension": ".py",
   "mimetype": "text/x-python",
   "name": "python",
   "nbconvert_exporter": "python",
   "pygments_lexer": "ipython3",
   "version": "3.7.0"
  }
 },
 "nbformat": 4,
 "nbformat_minor": 4
}
