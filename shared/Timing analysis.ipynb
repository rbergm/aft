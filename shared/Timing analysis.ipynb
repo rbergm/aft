{
 "cells": [
  {
   "cell_type": "markdown",
   "metadata": {},
   "source": [
    "# Timing analysis"
   ]
  },
  {
   "cell_type": "code",
   "execution_count": 1,
   "metadata": {},
   "outputs": [],
   "source": [
    "import datetime\n",
    "import os\n",
    "import sys\n",
    "\n",
    "import matplotlib.pyplot as plt\n",
    "import numpy as np\n",
    "import pandas as pd\n",
    "import seaborn as sns\n",
    "\n",
    "sns.set_style(\"whitegrid\")"
   ]
  },
  {
   "cell_type": "code",
   "execution_count": 2,
   "metadata": {},
   "outputs": [],
   "source": [
    "os.chdir(\"..\")\n",
    "utils_path = \"utils/\"\n",
    "if not utils_path in sys.path:\n",
    "    sys.path.insert(0, utils_path)\n",
    "from helper import *"
   ]
  },
  {
   "cell_type": "markdown",
   "metadata": {},
   "source": [
    "## Data loading"
   ]
  },
  {
   "cell_type": "code",
   "execution_count": 3,
   "metadata": {},
   "outputs": [],
   "source": [
    "def duration_to_timedelta(duration):\n",
    "    duration_comps = duration.split(\":\")\n",
    "    if len(duration_comps) > 2:\n",
    "        hours, minutes, seconds = duration_comps[-3], duration_comps[-2], duration_comps[-1]\n",
    "    else:\n",
    "        hours, (minutes, seconds) = (0, duration_comps)\n",
    "    return pd.Timedelta(hours=float(hours), minutes=float(minutes), seconds=float(seconds))"
   ]
  },
  {
   "cell_type": "code",
   "execution_count": 4,
   "metadata": {},
   "outputs": [],
   "source": [
    "def read_timing_df(src):\n",
    "    return pd.read_csv(src, names=[\"timestamp\", \"run\", \"duration\"], converters={\n",
    "        \"timestamp\": lambda ts: pd.to_datetime(ts, unit=\"s\"),\n",
    "        \"duration\": duration_to_timedelta\n",
    "    })"
   ]
  },
  {
   "cell_type": "code",
   "execution_count": 5,
   "metadata": {},
   "outputs": [],
   "source": [
    "df_baseline = read_timing_df(\"ues/workloads/timing-implicit.csv\")\n",
    "df_baseline[\"workload\"] = \"baseline\"\n",
    "\n",
    "df_ues = read_timing_df(\"ues/workloads/timing-explicit.csv\")\n",
    "df_ues[\"workload\"] = \"ues\"\n",
    "\n",
    "df_bao = read_timing_df(\"pg-bao/workloads/timing-full-train.csv\")\n",
    "df_bao[\"workload\"] = \"bao\"\n",
    "\n",
    "df_all = pd.concat([df_baseline, df_ues, df_bao]).reset_index(drop=True)\n",
    "df_all[\"duration_s\"] = df_all.duration.apply(lambda d: d.seconds)\n",
    "df_all[\"duration_min\"] = df_all.duration_s / 60"
   ]
  },
  {
   "cell_type": "code",
   "execution_count": 6,
   "metadata": {},
   "outputs": [
    {
     "data": {
      "text/html": [
       "<div>\n",
       "<style scoped>\n",
       "    .dataframe tbody tr th:only-of-type {\n",
       "        vertical-align: middle;\n",
       "    }\n",
       "\n",
       "    .dataframe tbody tr th {\n",
       "        vertical-align: top;\n",
       "    }\n",
       "\n",
       "    .dataframe thead th {\n",
       "        text-align: right;\n",
       "    }\n",
       "</style>\n",
       "<table border=\"1\" class=\"dataframe\">\n",
       "  <thead>\n",
       "    <tr style=\"text-align: right;\">\n",
       "      <th></th>\n",
       "      <th>workload</th>\n",
       "      <th>run</th>\n",
       "      <th>duration_min</th>\n",
       "    </tr>\n",
       "  </thead>\n",
       "  <tbody>\n",
       "    <tr>\n",
       "      <th>0</th>\n",
       "      <td>baseline</td>\n",
       "      <td>1</td>\n",
       "      <td>9.666667</td>\n",
       "    </tr>\n",
       "    <tr>\n",
       "      <th>1</th>\n",
       "      <td>baseline</td>\n",
       "      <td>2</td>\n",
       "      <td>7.866667</td>\n",
       "    </tr>\n",
       "    <tr>\n",
       "      <th>2</th>\n",
       "      <td>baseline</td>\n",
       "      <td>3</td>\n",
       "      <td>8.283333</td>\n",
       "    </tr>\n",
       "    <tr>\n",
       "      <th>3</th>\n",
       "      <td>baseline</td>\n",
       "      <td>4</td>\n",
       "      <td>8.033333</td>\n",
       "    </tr>\n",
       "    <tr>\n",
       "      <th>4</th>\n",
       "      <td>baseline</td>\n",
       "      <td>5</td>\n",
       "      <td>8.083333</td>\n",
       "    </tr>\n",
       "    <tr>\n",
       "      <th>5</th>\n",
       "      <td>ues</td>\n",
       "      <td>1</td>\n",
       "      <td>6.183333</td>\n",
       "    </tr>\n",
       "    <tr>\n",
       "      <th>6</th>\n",
       "      <td>ues</td>\n",
       "      <td>2</td>\n",
       "      <td>4.716667</td>\n",
       "    </tr>\n",
       "    <tr>\n",
       "      <th>7</th>\n",
       "      <td>ues</td>\n",
       "      <td>3</td>\n",
       "      <td>4.716667</td>\n",
       "    </tr>\n",
       "    <tr>\n",
       "      <th>8</th>\n",
       "      <td>ues</td>\n",
       "      <td>4</td>\n",
       "      <td>4.716667</td>\n",
       "    </tr>\n",
       "    <tr>\n",
       "      <th>9</th>\n",
       "      <td>ues</td>\n",
       "      <td>5</td>\n",
       "      <td>4.700000</td>\n",
       "    </tr>\n",
       "    <tr>\n",
       "      <th>10</th>\n",
       "      <td>bao</td>\n",
       "      <td>1</td>\n",
       "      <td>42.283333</td>\n",
       "    </tr>\n",
       "    <tr>\n",
       "      <th>11</th>\n",
       "      <td>bao</td>\n",
       "      <td>2</td>\n",
       "      <td>38.116667</td>\n",
       "    </tr>\n",
       "    <tr>\n",
       "      <th>12</th>\n",
       "      <td>bao</td>\n",
       "      <td>3</td>\n",
       "      <td>40.616667</td>\n",
       "    </tr>\n",
       "    <tr>\n",
       "      <th>13</th>\n",
       "      <td>bao</td>\n",
       "      <td>4</td>\n",
       "      <td>40.383333</td>\n",
       "    </tr>\n",
       "    <tr>\n",
       "      <th>14</th>\n",
       "      <td>bao</td>\n",
       "      <td>5</td>\n",
       "      <td>36.683333</td>\n",
       "    </tr>\n",
       "  </tbody>\n",
       "</table>\n",
       "</div>"
      ],
      "text/plain": [
       "    workload  run  duration_min\n",
       "0   baseline    1      9.666667\n",
       "1   baseline    2      7.866667\n",
       "2   baseline    3      8.283333\n",
       "3   baseline    4      8.033333\n",
       "4   baseline    5      8.083333\n",
       "5        ues    1      6.183333\n",
       "6        ues    2      4.716667\n",
       "7        ues    3      4.716667\n",
       "8        ues    4      4.716667\n",
       "9        ues    5      4.700000\n",
       "10       bao    1     42.283333\n",
       "11       bao    2     38.116667\n",
       "12       bao    3     40.616667\n",
       "13       bao    4     40.383333\n",
       "14       bao    5     36.683333"
      ]
     },
     "execution_count": 6,
     "metadata": {},
     "output_type": "execute_result"
    }
   ],
   "source": [
    "df_all[[\"workload\", \"run\", \"duration_min\"]]"
   ]
  },
  {
   "cell_type": "markdown",
   "metadata": {},
   "source": [
    "## \"Evaluation\"\n",
    "\n",
    "**Careful!** The absolute values of the different workload durations can not be compared! Each workload executes differently - a BAO workload consist of three iterations over the input queries, whereas baseline/UES only iterate once over the input queries."
   ]
  },
  {
   "cell_type": "code",
   "execution_count": 7,
   "metadata": {},
   "outputs": [
    {
     "data": {
      "text/html": [
       "<div>\n",
       "<style scoped>\n",
       "    .dataframe tbody tr th:only-of-type {\n",
       "        vertical-align: middle;\n",
       "    }\n",
       "\n",
       "    .dataframe tbody tr th {\n",
       "        vertical-align: top;\n",
       "    }\n",
       "\n",
       "    .dataframe thead th {\n",
       "        text-align: right;\n",
       "    }\n",
       "</style>\n",
       "<table border=\"1\" class=\"dataframe\">\n",
       "  <thead>\n",
       "    <tr style=\"text-align: right;\">\n",
       "      <th></th>\n",
       "      <th>mean</th>\n",
       "      <th>std</th>\n",
       "      <th>min</th>\n",
       "      <th>max</th>\n",
       "    </tr>\n",
       "    <tr>\n",
       "      <th>workload</th>\n",
       "      <th></th>\n",
       "      <th></th>\n",
       "      <th></th>\n",
       "      <th></th>\n",
       "    </tr>\n",
       "  </thead>\n",
       "  <tbody>\n",
       "    <tr>\n",
       "      <th>bao</th>\n",
       "      <td>2377.0</td>\n",
       "      <td>132.657454</td>\n",
       "      <td>2201.0</td>\n",
       "      <td>2537.0</td>\n",
       "    </tr>\n",
       "    <tr>\n",
       "      <th>baseline</th>\n",
       "      <td>503.2</td>\n",
       "      <td>43.848603</td>\n",
       "      <td>472.0</td>\n",
       "      <td>580.0</td>\n",
       "    </tr>\n",
       "    <tr>\n",
       "      <th>ues</th>\n",
       "      <td>300.4</td>\n",
       "      <td>39.468975</td>\n",
       "      <td>282.0</td>\n",
       "      <td>371.0</td>\n",
       "    </tr>\n",
       "  </tbody>\n",
       "</table>\n",
       "</div>"
      ],
      "text/plain": [
       "            mean         std     min     max\n",
       "workload                                    \n",
       "bao       2377.0  132.657454  2201.0  2537.0\n",
       "baseline   503.2   43.848603   472.0   580.0\n",
       "ues        300.4   39.468975   282.0   371.0"
      ]
     },
     "execution_count": 7,
     "metadata": {},
     "output_type": "execute_result"
    }
   ],
   "source": [
    "df_all.groupby(\"workload\")[\"duration_s\"].describe()[[\"mean\", \"std\", \"min\", \"max\"]]"
   ]
  }
 ],
 "metadata": {
  "kernelspec": {
   "display_name": "Python 3 (ipykernel)",
   "language": "python",
   "name": "python3"
  },
  "language_info": {
   "codemirror_mode": {
    "name": "ipython",
    "version": 3
   },
   "file_extension": ".py",
   "mimetype": "text/x-python",
   "name": "python",
   "nbconvert_exporter": "python",
   "pygments_lexer": "ipython3",
   "version": "3.7.0"
  }
 },
 "nbformat": 4,
 "nbformat_minor": 4
}
