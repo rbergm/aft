{
 "cells": [
  {
   "cell_type": "markdown",
   "metadata": {},
   "source": [
    "# Workload evaluation"
   ]
  },
  {
   "cell_type": "code",
   "execution_count": 1,
   "metadata": {},
   "outputs": [],
   "source": [
    "import json\n",
    "\n",
    "import matplotlib\n",
    "import matplotlib.pyplot as plt\n",
    "import numpy as np\n",
    "import pandas as pd\n",
    "import seaborn as sns\n",
    "\n",
    "sns.set_style(\"whitegrid\")"
   ]
  },
  {
   "cell_type": "code",
   "execution_count": 2,
   "metadata": {},
   "outputs": [],
   "source": [
    "# get access to our utility scripts\n",
    "import sys\n",
    "utils_path = \"../utils/\"\n",
    "if not utils_path in sys.path:\n",
    "    sys.path.insert(0, utils_path)\n",
    "from helper import *"
   ]
  },
  {
   "cell_type": "markdown",
   "metadata": {},
   "source": [
    "## Data loading\n",
    "\n",
    "Optionally, queries with a runtime in the top $N$ percent (that is, very long running queries) during the first iteration can be excluded from further analysis. That percentage can be specified here: "
   ]
  },
  {
   "cell_type": "code",
   "execution_count": 3,
   "metadata": {},
   "outputs": [],
   "source": [
    "# actually, this is not a percentage but a fraction --> a value of 0.1 designates the top 10%\n",
    "exclude_heavy_hitter_pct = 0.0"
   ]
  },
  {
   "cell_type": "markdown",
   "metadata": {},
   "source": [
    "Additionally, the evaluation may either be executed on the workload with all queries used as training data, or the workload with a subset of the queries used for training. This can be specified here:"
   ]
  },
  {
   "cell_type": "code",
   "execution_count": 4,
   "metadata": {},
   "outputs": [],
   "source": [
    "available_workloads = [\"full-train\", \"small-train\", \"full-train-no-cache\"]\n",
    "w_full, w_small, w_nocache = available_workloads\n",
    "selected_workload = \"full-train\""
   ]
  },
  {
   "cell_type": "code",
   "execution_count": 5,
   "metadata": {},
   "outputs": [],
   "source": [
    "def filter_heavy_hitters(df, pct, *, provide_hitters=False):\n",
    "    heavy_hitter_rt = select(df, run=1).t_exec.quantile(1-pct)\n",
    "    if provide_hitters:\n",
    "        filter_criterion = df.t_exec > heavy_hitter_rt\n",
    "    else:\n",
    "        filter_criterion = df.t_exec <= heavy_hitter_rt\n",
    "    filtered = df[filter_criterion & (df.run == 1)].label\n",
    "    return df[df.label.isin(filtered)]"
   ]
  },
  {
   "cell_type": "code",
   "execution_count": 6,
   "metadata": {},
   "outputs": [],
   "source": [
    "def read_workload_iterations(workload_mode):\n",
    "    df1 = pd.read_csv(f\"workloads/job-{workload_mode}-run1-cout.csv\")\n",
    "    df1[\"run\"] = 1\n",
    "    df1.plan = df1.plan.apply(json.loads)\n",
    "\n",
    "    df2 = pd.read_csv(f\"workloads/job-{workload_mode}-run2-cout.csv\")\n",
    "    df2[\"run\"] = 2\n",
    "    df2.plan = df2.plan.apply(json.loads)\n",
    "\n",
    "    df3 = pd.read_csv(f\"workloads/job-{workload_mode}-run3-cout.csv\")\n",
    "    df3[\"run\"] = 3\n",
    "    df3.plan = df3.plan.apply(json.loads)\n",
    "    \n",
    "    return df1, df2, df3"
   ]
  },
  {
   "cell_type": "code",
   "execution_count": 7,
   "metadata": {},
   "outputs": [
    {
     "data": {
      "text/html": [
       "<div>\n",
       "<style scoped>\n",
       "    .dataframe tbody tr th:only-of-type {\n",
       "        vertical-align: middle;\n",
       "    }\n",
       "\n",
       "    .dataframe tbody tr th {\n",
       "        vertical-align: top;\n",
       "    }\n",
       "\n",
       "    .dataframe thead th {\n",
       "        text-align: right;\n",
       "    }\n",
       "</style>\n",
       "<table border=\"1\" class=\"dataframe\">\n",
       "  <thead>\n",
       "    <tr style=\"text-align: right;\">\n",
       "      <th></th>\n",
       "      <th>query</th>\n",
       "      <th>cout</th>\n",
       "      <th>plan</th>\n",
       "      <th>t_exec</th>\n",
       "      <th>t_plan</th>\n",
       "      <th>label</th>\n",
       "      <th>run</th>\n",
       "    </tr>\n",
       "  </thead>\n",
       "  <tbody>\n",
       "    <tr>\n",
       "      <th>0</th>\n",
       "      <td>SELECT COUNT(*) FROM keyword AS k, movie_info ...</td>\n",
       "      <td>9359</td>\n",
       "      <td>[{'Plan': {'Node Type': 'Aggregate', 'Strategy...</td>\n",
       "      <td>1628.297</td>\n",
       "      <td>35.353</td>\n",
       "      <td>3c</td>\n",
       "      <td>1</td>\n",
       "    </tr>\n",
       "    <tr>\n",
       "      <th>1</th>\n",
       "      <td>SELECT COUNT(*) FROM company_type AS ct, info_...</td>\n",
       "      <td>46974</td>\n",
       "      <td>[{'Plan': {'Node Type': 'Aggregate', 'Strategy...</td>\n",
       "      <td>244.633</td>\n",
       "      <td>33.053</td>\n",
       "      <td>1d</td>\n",
       "      <td>1</td>\n",
       "    </tr>\n",
       "    <tr>\n",
       "      <th>2</th>\n",
       "      <td>SELECT COUNT(*) FROM aka_title AS at, company_...</td>\n",
       "      <td>39302</td>\n",
       "      <td>[{'Plan': {'Node Type': 'Aggregate', 'Strategy...</td>\n",
       "      <td>1043.781</td>\n",
       "      <td>56.711</td>\n",
       "      <td>15d</td>\n",
       "      <td>1</td>\n",
       "    </tr>\n",
       "    <tr>\n",
       "      <th>3</th>\n",
       "      <td>SELECT COUNT(*) FROM complete_cast AS cc, comp...</td>\n",
       "      <td>1358376</td>\n",
       "      <td>[{'Plan': {'Node Type': 'Aggregate', 'Strategy...</td>\n",
       "      <td>3852.261</td>\n",
       "      <td>194.143</td>\n",
       "      <td>28c</td>\n",
       "      <td>1</td>\n",
       "    </tr>\n",
       "    <tr>\n",
       "      <th>4</th>\n",
       "      <td>SELECT COUNT(*) FROM company_name AS cn1, comp...</td>\n",
       "      <td>8949</td>\n",
       "      <td>[{'Plan': {'Node Type': 'Aggregate', 'Strategy...</td>\n",
       "      <td>415.680</td>\n",
       "      <td>204.580</td>\n",
       "      <td>33a</td>\n",
       "      <td>1</td>\n",
       "    </tr>\n",
       "    <tr>\n",
       "      <th>...</th>\n",
       "      <td>...</td>\n",
       "      <td>...</td>\n",
       "      <td>...</td>\n",
       "      <td>...</td>\n",
       "      <td>...</td>\n",
       "      <td>...</td>\n",
       "      <td>...</td>\n",
       "    </tr>\n",
       "    <tr>\n",
       "      <th>108</th>\n",
       "      <td>select count(*) from aka_name AS an1 join name...</td>\n",
       "      <td>1595836</td>\n",
       "      <td>[{'Plan': {'Node Type': 'Aggregate', 'Strategy...</td>\n",
       "      <td>7740.856</td>\n",
       "      <td>0.661</td>\n",
       "      <td>8d</td>\n",
       "      <td>ues</td>\n",
       "    </tr>\n",
       "    <tr>\n",
       "      <th>109</th>\n",
       "      <td>select count(*) from aka_name AS an join name ...</td>\n",
       "      <td>1809</td>\n",
       "      <td>[{'Plan': {'Node Type': 'Aggregate', 'Strategy...</td>\n",
       "      <td>377.762</td>\n",
       "      <td>0.876</td>\n",
       "      <td>9a</td>\n",
       "      <td>ues</td>\n",
       "    </tr>\n",
       "    <tr>\n",
       "      <th>110</th>\n",
       "      <td>select count(*) from aka_name AS an join name ...</td>\n",
       "      <td>1164</td>\n",
       "      <td>[{'Plan': {'Node Type': 'Aggregate', 'Strategy...</td>\n",
       "      <td>374.689</td>\n",
       "      <td>0.846</td>\n",
       "      <td>9b</td>\n",
       "      <td>ues</td>\n",
       "    </tr>\n",
       "    <tr>\n",
       "      <th>111</th>\n",
       "      <td>select count(*) from aka_name AS an join name ...</td>\n",
       "      <td>55593</td>\n",
       "      <td>[{'Plan': {'Node Type': 'Aggregate', 'Strategy...</td>\n",
       "      <td>1053.464</td>\n",
       "      <td>0.791</td>\n",
       "      <td>9c</td>\n",
       "      <td>ues</td>\n",
       "    </tr>\n",
       "    <tr>\n",
       "      <th>112</th>\n",
       "      <td>select count(*) from aka_name AS an join name ...</td>\n",
       "      <td>3315016</td>\n",
       "      <td>[{'Plan': {'Node Type': 'Aggregate', 'Strategy...</td>\n",
       "      <td>8866.403</td>\n",
       "      <td>0.845</td>\n",
       "      <td>9d</td>\n",
       "      <td>ues</td>\n",
       "    </tr>\n",
       "  </tbody>\n",
       "</table>\n",
       "<p>565 rows × 7 columns</p>\n",
       "</div>"
      ],
      "text/plain": [
       "                                                 query     cout  \\\n",
       "0    SELECT COUNT(*) FROM keyword AS k, movie_info ...     9359   \n",
       "1    SELECT COUNT(*) FROM company_type AS ct, info_...    46974   \n",
       "2    SELECT COUNT(*) FROM aka_title AS at, company_...    39302   \n",
       "3    SELECT COUNT(*) FROM complete_cast AS cc, comp...  1358376   \n",
       "4    SELECT COUNT(*) FROM company_name AS cn1, comp...     8949   \n",
       "..                                                 ...      ...   \n",
       "108  select count(*) from aka_name AS an1 join name...  1595836   \n",
       "109  select count(*) from aka_name AS an join name ...     1809   \n",
       "110  select count(*) from aka_name AS an join name ...     1164   \n",
       "111  select count(*) from aka_name AS an join name ...    55593   \n",
       "112  select count(*) from aka_name AS an join name ...  3315016   \n",
       "\n",
       "                                                  plan    t_exec   t_plan  \\\n",
       "0    [{'Plan': {'Node Type': 'Aggregate', 'Strategy...  1628.297   35.353   \n",
       "1    [{'Plan': {'Node Type': 'Aggregate', 'Strategy...   244.633   33.053   \n",
       "2    [{'Plan': {'Node Type': 'Aggregate', 'Strategy...  1043.781   56.711   \n",
       "3    [{'Plan': {'Node Type': 'Aggregate', 'Strategy...  3852.261  194.143   \n",
       "4    [{'Plan': {'Node Type': 'Aggregate', 'Strategy...   415.680  204.580   \n",
       "..                                                 ...       ...      ...   \n",
       "108  [{'Plan': {'Node Type': 'Aggregate', 'Strategy...  7740.856    0.661   \n",
       "109  [{'Plan': {'Node Type': 'Aggregate', 'Strategy...   377.762    0.876   \n",
       "110  [{'Plan': {'Node Type': 'Aggregate', 'Strategy...   374.689    0.846   \n",
       "111  [{'Plan': {'Node Type': 'Aggregate', 'Strategy...  1053.464    0.791   \n",
       "112  [{'Plan': {'Node Type': 'Aggregate', 'Strategy...  8866.403    0.845   \n",
       "\n",
       "    label  run  \n",
       "0      3c    1  \n",
       "1      1d    1  \n",
       "2     15d    1  \n",
       "3     28c    1  \n",
       "4     33a    1  \n",
       "..    ...  ...  \n",
       "108    8d  ues  \n",
       "109    9a  ues  \n",
       "110    9b  ues  \n",
       "111    9c  ues  \n",
       "112    9d  ues  \n",
       "\n",
       "[565 rows x 7 columns]"
      ]
     },
     "execution_count": 7,
     "metadata": {},
     "output_type": "execute_result"
    }
   ],
   "source": [
    "df1, df2, df3 = read_workload_iterations(selected_workload)\n",
    "\n",
    "df_baseline_raw = pd.read_csv(\"workloads/job-baseline-cout.csv\")\n",
    "df_baseline_raw[\"run\"] = \"baseline\"\n",
    "df_baseline_raw.plan = df_baseline_raw.plan.apply(json.loads)\n",
    "\n",
    "df_ues_raw = pd.read_csv(\"workloads/job-ues-cout.csv\")\n",
    "df_ues_raw[\"run\"] = \"ues\"\n",
    "df_ues_raw.plan = df_ues_raw.plan.apply(json.loads)\n",
    "\n",
    "df_bao_raw = pd.concat([df1, df2, df3])\n",
    "df_bao = filter_heavy_hitters(df_bao_raw, exclude_heavy_hitter_pct).copy()\n",
    "\n",
    "df_baseline = df_baseline_raw[df_baseline_raw.label.isin(df_bao.label)].copy()\n",
    "df_ues = df_ues_raw[df_baseline_raw.label.isin(df_bao.label)].copy()\n",
    "\n",
    "df_all = pd.concat([df_bao, df_baseline, df_ues])\n",
    "df_all"
   ]
  },
  {
   "cell_type": "code",
   "execution_count": 8,
   "metadata": {},
   "outputs": [],
   "source": [
    "df1_train = pd.read_csv(f\"workloads/job-{selected_workload}-timing-run1.csv\")\n",
    "df1_train[\"run\"] = 1\n",
    "df2_train = pd.read_csv(f\"workloads/job-{selected_workload}-timing-run2.csv\")\n",
    "df2_train[\"run\"] = 2\n",
    "df3_train = pd.read_csv(f\"workloads/job-{selected_workload}-timing-run3.csv\")\n",
    "df3_train[\"run\"] = 3\n",
    "df_train = pd.concat([df1_train, df2_train, df3_train])"
   ]
  },
  {
   "cell_type": "markdown",
   "metadata": {},
   "source": [
    "The following queries have been excluded due to being heavy-hitters:"
   ]
  },
  {
   "cell_type": "code",
   "execution_count": 9,
   "metadata": {},
   "outputs": [
    {
     "data": {
      "text/html": [
       "<div>\n",
       "<style scoped>\n",
       "    .dataframe tbody tr th:only-of-type {\n",
       "        vertical-align: middle;\n",
       "    }\n",
       "\n",
       "    .dataframe tbody tr th {\n",
       "        vertical-align: top;\n",
       "    }\n",
       "\n",
       "    .dataframe thead th {\n",
       "        text-align: right;\n",
       "    }\n",
       "</style>\n",
       "<table border=\"1\" class=\"dataframe\">\n",
       "  <thead>\n",
       "    <tr style=\"text-align: right;\">\n",
       "      <th></th>\n",
       "      <th>query</th>\n",
       "      <th>cout</th>\n",
       "      <th>plan</th>\n",
       "      <th>t_exec</th>\n",
       "      <th>t_plan</th>\n",
       "      <th>label</th>\n",
       "      <th>run</th>\n",
       "    </tr>\n",
       "  </thead>\n",
       "  <tbody>\n",
       "  </tbody>\n",
       "</table>\n",
       "</div>"
      ],
      "text/plain": [
       "Empty DataFrame\n",
       "Columns: [query, cout, plan, t_exec, t_plan, label, run]\n",
       "Index: []"
      ]
     },
     "execution_count": 9,
     "metadata": {},
     "output_type": "execute_result"
    }
   ],
   "source": [
    "select(filter_heavy_hitters(df_bao_raw, exclude_heavy_hitter_pct, provide_hitters=True), run=1)"
   ]
  },
  {
   "cell_type": "markdown",
   "metadata": {},
   "source": [
    "## Analyzing the query execution time across different runs"
   ]
  },
  {
   "cell_type": "code",
   "execution_count": 10,
   "metadata": {},
   "outputs": [],
   "source": [
    "grp_run = df_all.groupby(\"run\")"
   ]
  },
  {
   "cell_type": "markdown",
   "metadata": {},
   "source": [
    "Aggregated information for the different runs:"
   ]
  },
  {
   "cell_type": "code",
   "execution_count": 11,
   "metadata": {},
   "outputs": [
    {
     "data": {
      "text/html": [
       "<div>\n",
       "<style scoped>\n",
       "    .dataframe tbody tr th:only-of-type {\n",
       "        vertical-align: middle;\n",
       "    }\n",
       "\n",
       "    .dataframe tbody tr th {\n",
       "        vertical-align: top;\n",
       "    }\n",
       "\n",
       "    .dataframe thead th {\n",
       "        text-align: right;\n",
       "    }\n",
       "</style>\n",
       "<table border=\"1\" class=\"dataframe\">\n",
       "  <thead>\n",
       "    <tr style=\"text-align: right;\">\n",
       "      <th></th>\n",
       "      <th>count</th>\n",
       "      <th>mean</th>\n",
       "      <th>std</th>\n",
       "      <th>min</th>\n",
       "      <th>25%</th>\n",
       "      <th>50%</th>\n",
       "      <th>75%</th>\n",
       "      <th>max</th>\n",
       "    </tr>\n",
       "    <tr>\n",
       "      <th>run</th>\n",
       "      <th></th>\n",
       "      <th></th>\n",
       "      <th></th>\n",
       "      <th></th>\n",
       "      <th></th>\n",
       "      <th></th>\n",
       "      <th></th>\n",
       "      <th></th>\n",
       "    </tr>\n",
       "  </thead>\n",
       "  <tbody>\n",
       "    <tr>\n",
       "      <th>1</th>\n",
       "      <td>113.0</td>\n",
       "      <td>7149.012301</td>\n",
       "      <td>34815.052763</td>\n",
       "      <td>124.377</td>\n",
       "      <td>1119.300</td>\n",
       "      <td>2233.308</td>\n",
       "      <td>3133.198</td>\n",
       "      <td>359959.310</td>\n",
       "    </tr>\n",
       "    <tr>\n",
       "      <th>2</th>\n",
       "      <td>113.0</td>\n",
       "      <td>2107.021425</td>\n",
       "      <td>1379.750188</td>\n",
       "      <td>127.003</td>\n",
       "      <td>935.975</td>\n",
       "      <td>1997.497</td>\n",
       "      <td>2993.124</td>\n",
       "      <td>7388.799</td>\n",
       "    </tr>\n",
       "    <tr>\n",
       "      <th>3</th>\n",
       "      <td>113.0</td>\n",
       "      <td>2139.538602</td>\n",
       "      <td>1502.660394</td>\n",
       "      <td>125.950</td>\n",
       "      <td>941.571</td>\n",
       "      <td>1999.016</td>\n",
       "      <td>2839.277</td>\n",
       "      <td>7735.888</td>\n",
       "    </tr>\n",
       "    <tr>\n",
       "      <th>baseline</th>\n",
       "      <td>113.0</td>\n",
       "      <td>5025.080496</td>\n",
       "      <td>15981.614976</td>\n",
       "      <td>2.924</td>\n",
       "      <td>128.803</td>\n",
       "      <td>698.284</td>\n",
       "      <td>4043.859</td>\n",
       "      <td>129587.619</td>\n",
       "    </tr>\n",
       "    <tr>\n",
       "      <th>ues</th>\n",
       "      <td>113.0</td>\n",
       "      <td>3282.761991</td>\n",
       "      <td>6844.477723</td>\n",
       "      <td>12.632</td>\n",
       "      <td>473.860</td>\n",
       "      <td>1104.740</td>\n",
       "      <td>3083.331</td>\n",
       "      <td>56644.513</td>\n",
       "    </tr>\n",
       "  </tbody>\n",
       "</table>\n",
       "</div>"
      ],
      "text/plain": [
       "          count         mean           std      min       25%       50%  \\\n",
       "run                                                                       \n",
       "1         113.0  7149.012301  34815.052763  124.377  1119.300  2233.308   \n",
       "2         113.0  2107.021425   1379.750188  127.003   935.975  1997.497   \n",
       "3         113.0  2139.538602   1502.660394  125.950   941.571  1999.016   \n",
       "baseline  113.0  5025.080496  15981.614976    2.924   128.803   698.284   \n",
       "ues       113.0  3282.761991   6844.477723   12.632   473.860  1104.740   \n",
       "\n",
       "               75%         max  \n",
       "run                             \n",
       "1         3133.198  359959.310  \n",
       "2         2993.124    7388.799  \n",
       "3         2839.277    7735.888  \n",
       "baseline  4043.859  129587.619  \n",
       "ues       3083.331   56644.513  "
      ]
     },
     "execution_count": 11,
     "metadata": {},
     "output_type": "execute_result"
    }
   ],
   "source": [
    "grp_run.t_exec.describe()"
   ]
  },
  {
   "cell_type": "markdown",
   "metadata": {},
   "source": [
    "Total query execution time [minutes]:"
   ]
  },
  {
   "cell_type": "code",
   "execution_count": 12,
   "metadata": {},
   "outputs": [
    {
     "data": {
      "text/plain": [
       "run\n",
       "1           13.675729\n",
       "2            4.194885\n",
       "3            4.254615\n",
       "baseline     9.500353\n",
       "ues          6.185315\n",
       "dtype: float64"
      ]
     },
     "execution_count": 12,
     "metadata": {},
     "output_type": "execute_result"
    }
   ],
   "source": [
    "(grp_run.t_exec.sum() + grp_run.t_plan.sum()) / 60000"
   ]
  },
  {
   "cell_type": "markdown",
   "metadata": {},
   "source": [
    "Raw query execution time (no planning) [minutes]:"
   ]
  },
  {
   "cell_type": "code",
   "execution_count": 13,
   "metadata": {},
   "outputs": [
    {
     "data": {
      "text/plain": [
       "run\n",
       "1           13.463973\n",
       "2            3.968224\n",
       "3            4.029464\n",
       "baseline     9.463902\n",
       "ues          6.182535\n",
       "Name: t_exec, dtype: float64"
      ]
     },
     "execution_count": 13,
     "metadata": {},
     "output_type": "execute_result"
    }
   ],
   "source": [
    "grp_run.t_exec.sum() / 60000"
   ]
  },
  {
   "cell_type": "markdown",
   "metadata": {},
   "source": [
    "Total query planning time [seconds]:"
   ]
  },
  {
   "cell_type": "code",
   "execution_count": 14,
   "metadata": {},
   "outputs": [
    {
     "data": {
      "text/plain": [
       "run\n",
       "1           12.705346\n",
       "2           13.599683\n",
       "3           13.509060\n",
       "baseline     2.187110\n",
       "ues          0.166818\n",
       "Name: t_plan, dtype: float64"
      ]
     },
     "execution_count": 14,
     "metadata": {},
     "output_type": "execute_result"
    }
   ],
   "source": [
    "grp_run.t_plan.sum() / 1000"
   ]
  },
  {
   "cell_type": "markdown",
   "metadata": {},
   "source": [
    "Execution time distribution:"
   ]
  },
  {
   "cell_type": "code",
   "execution_count": 15,
   "metadata": {
    "scrolled": false
   },
   "outputs": [
    {
     "data": {
      "image/png": "[encoded data removed]",
      "text/plain": [
       "<Figure size 1008x576 with 2 Axes>"
      ]
     },
     "metadata": {},
     "output_type": "display_data"
    }
   ],
   "source": [
    "fig, (ax_t_exec, ax_cout) = plt.subplots(nrows=1, ncols=2, figsize=(14, 8))\n",
    "g = sns.boxplot(data=df_all, x=\"run\", y=\"t_exec\", ax=ax_t_exec)\n",
    "g.set_yscale(\"log\")\n",
    "g = sns.boxplot(data=df_all, x=\"run\", y=\"cout\", ax=ax_cout)\n",
    "g.set_yscale(\"log\")"
   ]
  },
  {
   "cell_type": "markdown",
   "metadata": {},
   "source": [
    "Now also considering the training time:"
   ]
  },
  {
   "cell_type": "code",
   "execution_count": 16,
   "metadata": {},
   "outputs": [
    {
     "data": {
      "text/html": [
       "<div>\n",
       "<style scoped>\n",
       "    .dataframe tbody tr th:only-of-type {\n",
       "        vertical-align: middle;\n",
       "    }\n",
       "\n",
       "    .dataframe tbody tr th {\n",
       "        vertical-align: top;\n",
       "    }\n",
       "\n",
       "    .dataframe thead th {\n",
       "        text-align: right;\n",
       "    }\n",
       "</style>\n",
       "<table border=\"1\" class=\"dataframe\">\n",
       "  <thead>\n",
       "    <tr style=\"text-align: right;\">\n",
       "      <th></th>\n",
       "      <th>run</th>\n",
       "      <th>runtime_train_seconds</th>\n",
       "      <th>runtime_total_minutes</th>\n",
       "    </tr>\n",
       "  </thead>\n",
       "  <tbody>\n",
       "    <tr>\n",
       "      <th>0</th>\n",
       "      <td>1</td>\n",
       "      <td>6.506</td>\n",
       "      <td>13.784162</td>\n",
       "    </tr>\n",
       "    <tr>\n",
       "      <th>0</th>\n",
       "      <td>2</td>\n",
       "      <td>6.758</td>\n",
       "      <td>4.307518</td>\n",
       "    </tr>\n",
       "    <tr>\n",
       "      <th>0</th>\n",
       "      <td>3</td>\n",
       "      <td>13.013</td>\n",
       "      <td>4.471499</td>\n",
       "    </tr>\n",
       "  </tbody>\n",
       "</table>\n",
       "</div>"
      ],
      "text/plain": [
       "  run  runtime_train_seconds  runtime_total_minutes\n",
       "0   1                  6.506              13.784162\n",
       "0   2                  6.758               4.307518\n",
       "0   3                 13.013               4.471499"
      ]
     },
     "execution_count": 16,
     "metadata": {},
     "output_type": "execute_result"
    }
   ],
   "source": [
    "df_runtime = (grp_run.t_exec.sum() + grp_run.t_plan.sum()).to_frame(name=\"runtime\")\n",
    "df_time = df_runtime.merge(df_train, left_index=True, right_on=\"run\", suffixes=(\"_exec\", \"_train\"))\n",
    "df_time[\"runtime_total\"] = df_time.runtime_exec + df_time.runtime_train\n",
    "df_time[\"runtime_train_seconds\"] = df_time.runtime_train / 1000\n",
    "df_time[\"runtime_total_minutes\"] = df_time.runtime_total / 60000\n",
    "df_time[[\"run\", \"runtime_train_seconds\", \"runtime_total_minutes\"]]"
   ]
  },
  {
   "cell_type": "markdown",
   "metadata": {},
   "source": [
    "## For which queries did BAO improve the execution time substantially?\n",
    "\n",
    "We will now look at which hints lead to the most impressive execution time improvements. In order to do so, we will first quantify how much the execution time improved per query. Afterwards, we take a look at the (positive) outliers and extract the hints that BAO applied.\n",
    "\n",
    "**First up, determine the improvement factor**:"
   ]
  },
  {
   "cell_type": "code",
   "execution_count": 17,
   "metadata": {},
   "outputs": [],
   "source": [
    "grp_query = df_bao.groupby(\"label\")"
   ]
  },
  {
   "cell_type": "code",
   "execution_count": 18,
   "metadata": {},
   "outputs": [],
   "source": [
    "def t_exec_decrease(grp):\n",
    "    init_t_exec = grp[grp.run == 1].t_exec\n",
    "    final_t_exec = grp[grp.run == 3].t_exec\n",
    "    return init_t_exec / final_t_exec"
   ]
  },
  {
   "cell_type": "markdown",
   "metadata": {},
   "source": [
    "**Aggregated overview:** how is the improvement factor (values $> 1$ constitute an improvement) distributed?"
   ]
  },
  {
   "cell_type": "code",
   "execution_count": 19,
   "metadata": {},
   "outputs": [
    {
     "data": {
      "text/plain": [
       "count    113.000000\n",
       "mean       5.789824\n",
       "std       31.101899\n",
       "min        0.624994\n",
       "25%        0.975160\n",
       "50%        0.992744\n",
       "75%        1.007647\n",
       "max      317.114033\n",
       "Name: t_exec, dtype: float64"
      ]
     },
     "execution_count": 19,
     "metadata": {},
     "output_type": "execute_result"
    }
   ],
   "source": [
    "ser_rt_dec = grp_query.apply(t_exec_decrease)\n",
    "ser_rt_dec.describe()"
   ]
  },
  {
   "cell_type": "markdown",
   "metadata": {},
   "source": [
    "**Next up**, we extract the relevant data from the entire BAO data frame. This includes the query plan for the third benchmark iteration, as well as the initial/final execution time. This process is rather technical and does not really provide any insight."
   ]
  },
  {
   "cell_type": "code",
   "execution_count": 20,
   "metadata": {},
   "outputs": [],
   "source": [
    "df_query = df_bao[[\"label\", \"query\", \"plan\", \"t_exec\", \"run\"]].copy()\n",
    "df_query = df_query.join(ser_rt_dec.reset_index(level=0).set_index(\"label\").squeeze(), on=\"label\", rsuffix=\"_dec\")"
   ]
  },
  {
   "cell_type": "code",
   "execution_count": 21,
   "metadata": {},
   "outputs": [],
   "source": [
    "def restructure_df(df_grp):\n",
    "    run3 = select(df_grp, run=3)\n",
    "    final_plan = run3.plan\n",
    "    init_t_exec = select(df_grp, run=1).t_exec\n",
    "    final_t_exec = run3.t_exec\n",
    "    return pd.Series({\"final_plan\" : unwrap(final_plan),\n",
    "                      \"t_exec_init\": unwrap(init_t_exec),\n",
    "                      \"t_exec_final\": unwrap(final_t_exec)})"
   ]
  },
  {
   "cell_type": "code",
   "execution_count": 22,
   "metadata": {},
   "outputs": [],
   "source": [
    "df_summarized = df_query.groupby([\"label\", \"query\", \"t_exec_dec\"])[[\"t_exec\", \"plan\", \"run\"]].apply(restructure_df).reset_index()"
   ]
  },
  {
   "cell_type": "markdown",
   "metadata": {},
   "source": [
    "At this point we are ready to get the final BAO query hints."
   ]
  },
  {
   "cell_type": "code",
   "execution_count": 23,
   "metadata": {},
   "outputs": [],
   "source": [
    "def unwrap_bao_hint(plan):\n",
    "    return plan[0][\"Bao\"][\"Bao recommended hint\"]"
   ]
  },
  {
   "cell_type": "code",
   "execution_count": 24,
   "metadata": {},
   "outputs": [],
   "source": [
    "df_summarized[\"bao_hint\"] = df_summarized.final_plan.apply(unwrap_bao_hint)\n",
    "bao_cols = [\"label\", \"t_exec_dec\", \"t_exec_init\", \"t_exec_final\", \"bao_hint\"]"
   ]
  },
  {
   "cell_type": "markdown",
   "metadata": {},
   "source": [
    "**Finally**, we can extract the good outliers from the benchmark. Which queries are considered outliers can be customized below. The factor is the upper boundary, i.e. setting it to 0.1 will select the top 10% of improvements, setting it to 0.25 will select the top 25%, etc."
   ]
  },
  {
   "cell_type": "code",
   "execution_count": 25,
   "metadata": {},
   "outputs": [],
   "source": [
    "outliers = 0.1"
   ]
  },
  {
   "cell_type": "markdown",
   "metadata": {},
   "source": [
    "\"Brilliant\" or \"excellent\" queries are those queries have an improvement at least as large as the outlier-quantile boundary. This improvement factor is calculated now:"
   ]
  },
  {
   "cell_type": "code",
   "execution_count": 26,
   "metadata": {},
   "outputs": [
    {
     "data": {
      "text/plain": [
       "1.1682965142471509"
      ]
     },
     "execution_count": 26,
     "metadata": {},
     "output_type": "execute_result"
    }
   ],
   "source": [
    "brilliant_t_exec_dec = df_summarized.t_exec_dec.quantile(1-outliers)\n",
    "brilliant_t_exec_dec"
   ]
  },
  {
   "cell_type": "markdown",
   "metadata": {},
   "source": [
    "**At last, here are the queries:**"
   ]
  },
  {
   "cell_type": "code",
   "execution_count": 27,
   "metadata": {},
   "outputs": [
    {
     "data": {
      "text/html": [
       "<div>\n",
       "<style scoped>\n",
       "    .dataframe tbody tr th:only-of-type {\n",
       "        vertical-align: middle;\n",
       "    }\n",
       "\n",
       "    .dataframe tbody tr th {\n",
       "        vertical-align: top;\n",
       "    }\n",
       "\n",
       "    .dataframe thead th {\n",
       "        text-align: right;\n",
       "    }\n",
       "</style>\n",
       "<table border=\"1\" class=\"dataframe\">\n",
       "  <thead>\n",
       "    <tr style=\"text-align: right;\">\n",
       "      <th></th>\n",
       "      <th>label</th>\n",
       "      <th>t_exec_dec</th>\n",
       "      <th>t_exec_init</th>\n",
       "      <th>t_exec_final</th>\n",
       "      <th>bao_hint</th>\n",
       "    </tr>\n",
       "  </thead>\n",
       "  <tbody>\n",
       "    <tr>\n",
       "      <th>35</th>\n",
       "      <td>19b</td>\n",
       "      <td>1.191622</td>\n",
       "      <td>2755.721</td>\n",
       "      <td>2312.579</td>\n",
       "      <td>(no hint)</td>\n",
       "    </tr>\n",
       "    <tr>\n",
       "      <th>68</th>\n",
       "      <td>28c</td>\n",
       "      <td>1.270671</td>\n",
       "      <td>3852.261</td>\n",
       "      <td>3031.675</td>\n",
       "      <td>SET enable_mergejoin TO off;</td>\n",
       "    </tr>\n",
       "    <tr>\n",
       "      <th>11</th>\n",
       "      <td>13b</td>\n",
       "      <td>1.622089</td>\n",
       "      <td>3185.897</td>\n",
       "      <td>1964.070</td>\n",
       "      <td>SET enable_nestloop TO off;</td>\n",
       "    </tr>\n",
       "    <tr>\n",
       "      <th>70</th>\n",
       "      <td>29b</td>\n",
       "      <td>1.742963</td>\n",
       "      <td>4272.840</td>\n",
       "      <td>2451.480</td>\n",
       "      <td>SET enable_mergejoin TO off;</td>\n",
       "    </tr>\n",
       "    <tr>\n",
       "      <th>12</th>\n",
       "      <td>13c</td>\n",
       "      <td>1.776625</td>\n",
       "      <td>3133.198</td>\n",
       "      <td>1763.567</td>\n",
       "      <td>SET enable_nestloop TO off;</td>\n",
       "    </tr>\n",
       "    <tr>\n",
       "      <th>65</th>\n",
       "      <td>27c</td>\n",
       "      <td>13.843977</td>\n",
       "      <td>22407.391</td>\n",
       "      <td>1618.566</td>\n",
       "      <td>SET enable_mergejoin TO off; SET enable_indexs...</td>\n",
       "    </tr>\n",
       "    <tr>\n",
       "      <th>4</th>\n",
       "      <td>11b</td>\n",
       "      <td>14.077578</td>\n",
       "      <td>5419.614</td>\n",
       "      <td>384.982</td>\n",
       "      <td>SET enable_mergejoin TO off; SET enable_indexs...</td>\n",
       "    </tr>\n",
       "    <tr>\n",
       "      <th>52</th>\n",
       "      <td>23a</td>\n",
       "      <td>39.585222</td>\n",
       "      <td>33968.910</td>\n",
       "      <td>858.121</td>\n",
       "      <td>SET enable_mergejoin TO off;</td>\n",
       "    </tr>\n",
       "    <tr>\n",
       "      <th>53</th>\n",
       "      <td>23b</td>\n",
       "      <td>40.244946</td>\n",
       "      <td>33470.796</td>\n",
       "      <td>831.677</td>\n",
       "      <td>SET enable_mergejoin TO off;</td>\n",
       "    </tr>\n",
       "    <tr>\n",
       "      <th>54</th>\n",
       "      <td>23c</td>\n",
       "      <td>54.241742</td>\n",
       "      <td>46144.047</td>\n",
       "      <td>850.711</td>\n",
       "      <td>SET enable_mergejoin TO off;</td>\n",
       "    </tr>\n",
       "    <tr>\n",
       "      <th>63</th>\n",
       "      <td>27a</td>\n",
       "      <td>70.304762</td>\n",
       "      <td>79604.535</td>\n",
       "      <td>1132.278</td>\n",
       "      <td>SET enable_mergejoin TO off; SET enable_indexs...</td>\n",
       "    </tr>\n",
       "    <tr>\n",
       "      <th>64</th>\n",
       "      <td>27b</td>\n",
       "      <td>317.114033</td>\n",
       "      <td>359959.310</td>\n",
       "      <td>1135.110</td>\n",
       "      <td>SET enable_mergejoin TO off;</td>\n",
       "    </tr>\n",
       "  </tbody>\n",
       "</table>\n",
       "</div>"
      ],
      "text/plain": [
       "   label  t_exec_dec  t_exec_init  t_exec_final  \\\n",
       "35   19b    1.191622     2755.721      2312.579   \n",
       "68   28c    1.270671     3852.261      3031.675   \n",
       "11   13b    1.622089     3185.897      1964.070   \n",
       "70   29b    1.742963     4272.840      2451.480   \n",
       "12   13c    1.776625     3133.198      1763.567   \n",
       "65   27c   13.843977    22407.391      1618.566   \n",
       "4    11b   14.077578     5419.614       384.982   \n",
       "52   23a   39.585222    33968.910       858.121   \n",
       "53   23b   40.244946    33470.796       831.677   \n",
       "54   23c   54.241742    46144.047       850.711   \n",
       "63   27a   70.304762    79604.535      1132.278   \n",
       "64   27b  317.114033   359959.310      1135.110   \n",
       "\n",
       "                                             bao_hint  \n",
       "35                                          (no hint)  \n",
       "68                      SET enable_mergejoin TO off;   \n",
       "11                       SET enable_nestloop TO off;   \n",
       "70                      SET enable_mergejoin TO off;   \n",
       "12                       SET enable_nestloop TO off;   \n",
       "65  SET enable_mergejoin TO off; SET enable_indexs...  \n",
       "4   SET enable_mergejoin TO off; SET enable_indexs...  \n",
       "52                      SET enable_mergejoin TO off;   \n",
       "53                      SET enable_mergejoin TO off;   \n",
       "54                      SET enable_mergejoin TO off;   \n",
       "63  SET enable_mergejoin TO off; SET enable_indexs...  \n",
       "64                      SET enable_mergejoin TO off;   "
      ]
     },
     "execution_count": 27,
     "metadata": {},
     "output_type": "execute_result"
    }
   ],
   "source": [
    "df_excellent = df_summarized[df_summarized.t_exec_dec >= brilliant_t_exec_dec]\n",
    "df_excellent[bao_cols].sort_values(by=\"t_exec_dec\")"
   ]
  },
  {
   "cell_type": "code",
   "execution_count": 28,
   "metadata": {},
   "outputs": [
    {
     "data": {
      "image/png": "[encoded data removed]",
      "text/plain": [
       "<Figure size 720x576 with 1 Axes>"
      ]
     },
     "metadata": {},
     "output_type": "display_data"
    }
   ],
   "source": [
    "fig, ax = plt.subplots(figsize=(10,8))\n",
    "g = sns.scatterplot(data=df_excellent, x=\"bao_hint\", y=\"t_exec_dec\", hue=\"label\", style=\"label\", s=200, ax=ax)\n",
    "g.set_yscale(\"log\")"
   ]
  },
  {
   "cell_type": "markdown",
   "metadata": {},
   "source": [
    "## Which query hints did BAO apply during the benchmark?"
   ]
  },
  {
   "cell_type": "code",
   "execution_count": 29,
   "metadata": {},
   "outputs": [],
   "source": [
    "df_bao[\"bao_hint\"] = df_bao.plan.apply(unwrap_bao_hint)"
   ]
  },
  {
   "cell_type": "markdown",
   "metadata": {},
   "source": [
    "The absolute number of times each query hint was applied per run:"
   ]
  },
  {
   "cell_type": "code",
   "execution_count": 30,
   "metadata": {},
   "outputs": [],
   "source": [
    "bao_hint_hue_order = df_bao.bao_hint.sort_values().unique()"
   ]
  },
  {
   "cell_type": "code",
   "execution_count": 31,
   "metadata": {
    "scrolled": false
   },
   "outputs": [
    {
     "data": {
      "image/png": "[encoded data removed]",
      "text/plain": [
       "<Figure size 1296x576 with 1 Axes>"
      ]
     },
     "metadata": {},
     "output_type": "display_data"
    }
   ],
   "source": [
    "fig, ax = plt.subplots(figsize=(18,8))\n",
    "g = sns.countplot(data=df_bao, x=\"run\", hue=\"bao_hint\", hue_order=bao_hint_hue_order, ax=ax)\n",
    "g.set_yscale(\"log\")"
   ]
  },
  {
   "cell_type": "markdown",
   "metadata": {},
   "source": [
    "The influence each query hint had on the runtime, relative to the runtime during the previous iteration:"
   ]
  },
  {
   "cell_type": "code",
   "execution_count": 32,
   "metadata": {},
   "outputs": [],
   "source": [
    "def per_iteration_runtime_improvement(query_grp):\n",
    "    improvement = query_grp.t_exec.shift(1) / query_grp.t_exec\n",
    "    return pd.DataFrame({\"label\": query_grp.label, \"run\": query_grp.run, \"t_exec_rel_improv\": improvement.values})"
   ]
  },
  {
   "cell_type": "code",
   "execution_count": 33,
   "metadata": {},
   "outputs": [],
   "source": [
    "df_bao = df_bao.merge(df_bao.groupby(\"label\").apply(per_iteration_runtime_improvement), on=[\"label\", \"run\"])"
   ]
  },
  {
   "cell_type": "code",
   "execution_count": 34,
   "metadata": {},
   "outputs": [
    {
     "data": {
      "image/png": "[encoded data removed]",
      "text/plain": [
       "<Figure size 1296x576 with 1 Axes>"
      ]
     },
     "metadata": {},
     "output_type": "display_data"
    }
   ],
   "source": [
    "df_bao_r1_r2 = pd.concat([select(df_bao, run=2), select(df_bao, run=3)]).sort_values(by=\"bao_hint\")\n",
    "fig, ax = plt.subplots(figsize=(18,8))\n",
    "g = sns.stripplot(data=df_bao_r1_r2, x=\"run\", y=\"t_exec_rel_improv\", hue=\"bao_hint\", hue_order=bao_hint_hue_order, ax=ax)\n",
    "g.set_yscale(\"log\")"
   ]
  },
  {
   "cell_type": "markdown",
   "metadata": {},
   "source": [
    "The improvement per benchmark iteration:"
   ]
  },
  {
   "cell_type": "code",
   "execution_count": 35,
   "metadata": {},
   "outputs": [
    {
     "data": {
      "text/html": [
       "<div>\n",
       "<style scoped>\n",
       "    .dataframe tbody tr th:only-of-type {\n",
       "        vertical-align: middle;\n",
       "    }\n",
       "\n",
       "    .dataframe tbody tr th {\n",
       "        vertical-align: top;\n",
       "    }\n",
       "\n",
       "    .dataframe thead th {\n",
       "        text-align: right;\n",
       "    }\n",
       "</style>\n",
       "<table border=\"1\" class=\"dataframe\">\n",
       "  <thead>\n",
       "    <tr style=\"text-align: right;\">\n",
       "      <th></th>\n",
       "      <th>count</th>\n",
       "      <th>mean</th>\n",
       "      <th>std</th>\n",
       "      <th>min</th>\n",
       "      <th>25%</th>\n",
       "      <th>50%</th>\n",
       "      <th>75%</th>\n",
       "      <th>max</th>\n",
       "    </tr>\n",
       "    <tr>\n",
       "      <th>run</th>\n",
       "      <th></th>\n",
       "      <th></th>\n",
       "      <th></th>\n",
       "      <th></th>\n",
       "      <th></th>\n",
       "      <th></th>\n",
       "      <th></th>\n",
       "      <th></th>\n",
       "    </tr>\n",
       "  </thead>\n",
       "  <tbody>\n",
       "    <tr>\n",
       "      <th>2</th>\n",
       "      <td>113.0</td>\n",
       "      <td>5.291615</td>\n",
       "      <td>27.173011</td>\n",
       "      <td>0.579720</td>\n",
       "      <td>0.917385</td>\n",
       "      <td>0.995203</td>\n",
       "      <td>1.010518</td>\n",
       "      <td>275.610612</td>\n",
       "    </tr>\n",
       "    <tr>\n",
       "      <th>3</th>\n",
       "      <td>113.0</td>\n",
       "      <td>1.010549</td>\n",
       "      <td>0.143060</td>\n",
       "      <td>0.579233</td>\n",
       "      <td>0.987805</td>\n",
       "      <td>1.002095</td>\n",
       "      <td>1.019932</td>\n",
       "      <td>1.522965</td>\n",
       "    </tr>\n",
       "  </tbody>\n",
       "</table>\n",
       "</div>"
      ],
      "text/plain": [
       "     count      mean        std       min       25%       50%       75%  \\\n",
       "run                                                                       \n",
       "2    113.0  5.291615  27.173011  0.579720  0.917385  0.995203  1.010518   \n",
       "3    113.0  1.010549   0.143060  0.579233  0.987805  1.002095  1.019932   \n",
       "\n",
       "            max  \n",
       "run              \n",
       "2    275.610612  \n",
       "3      1.522965  "
      ]
     },
     "execution_count": 35,
     "metadata": {},
     "output_type": "execute_result"
    }
   ],
   "source": [
    "df_bao_r1_r2.groupby(\"run\")[\"t_exec_rel_improv\"].describe()"
   ]
  },
  {
   "cell_type": "markdown",
   "metadata": {},
   "source": [
    "## Compare full/reduced training workloads"
   ]
  },
  {
   "cell_type": "code",
   "execution_count": 36,
   "metadata": {},
   "outputs": [
    {
     "data": {
      "text/html": [
       "<div>\n",
       "<style scoped>\n",
       "    .dataframe tbody tr th:only-of-type {\n",
       "        vertical-align: middle;\n",
       "    }\n",
       "\n",
       "    .dataframe tbody tr th {\n",
       "        vertical-align: top;\n",
       "    }\n",
       "\n",
       "    .dataframe thead th {\n",
       "        text-align: right;\n",
       "    }\n",
       "</style>\n",
       "<table border=\"1\" class=\"dataframe\">\n",
       "  <thead>\n",
       "    <tr style=\"text-align: right;\">\n",
       "      <th></th>\n",
       "      <th>index</th>\n",
       "      <th>query</th>\n",
       "      <th>cout</th>\n",
       "      <th>plan</th>\n",
       "      <th>t_exec</th>\n",
       "      <th>t_plan</th>\n",
       "      <th>label</th>\n",
       "      <th>run</th>\n",
       "      <th>workload</th>\n",
       "    </tr>\n",
       "  </thead>\n",
       "  <tbody>\n",
       "    <tr>\n",
       "      <th>0</th>\n",
       "      <td>0</td>\n",
       "      <td>SELECT COUNT(*) FROM keyword AS k, movie_info ...</td>\n",
       "      <td>9359</td>\n",
       "      <td>[{'Plan': {'Node Type': 'Aggregate', 'Strategy...</td>\n",
       "      <td>1628.297</td>\n",
       "      <td>35.353</td>\n",
       "      <td>3c</td>\n",
       "      <td>1</td>\n",
       "      <td>full-train</td>\n",
       "    </tr>\n",
       "    <tr>\n",
       "      <th>1</th>\n",
       "      <td>1</td>\n",
       "      <td>SELECT COUNT(*) FROM company_type AS ct, info_...</td>\n",
       "      <td>46974</td>\n",
       "      <td>[{'Plan': {'Node Type': 'Aggregate', 'Strategy...</td>\n",
       "      <td>244.633</td>\n",
       "      <td>33.053</td>\n",
       "      <td>1d</td>\n",
       "      <td>1</td>\n",
       "      <td>full-train</td>\n",
       "    </tr>\n",
       "    <tr>\n",
       "      <th>2</th>\n",
       "      <td>2</td>\n",
       "      <td>SELECT COUNT(*) FROM aka_title AS at, company_...</td>\n",
       "      <td>39302</td>\n",
       "      <td>[{'Plan': {'Node Type': 'Aggregate', 'Strategy...</td>\n",
       "      <td>1043.781</td>\n",
       "      <td>56.711</td>\n",
       "      <td>15d</td>\n",
       "      <td>1</td>\n",
       "      <td>full-train</td>\n",
       "    </tr>\n",
       "    <tr>\n",
       "      <th>3</th>\n",
       "      <td>3</td>\n",
       "      <td>SELECT COUNT(*) FROM complete_cast AS cc, comp...</td>\n",
       "      <td>1358376</td>\n",
       "      <td>[{'Plan': {'Node Type': 'Aggregate', 'Strategy...</td>\n",
       "      <td>3852.261</td>\n",
       "      <td>194.143</td>\n",
       "      <td>28c</td>\n",
       "      <td>1</td>\n",
       "      <td>full-train</td>\n",
       "    </tr>\n",
       "    <tr>\n",
       "      <th>4</th>\n",
       "      <td>4</td>\n",
       "      <td>SELECT COUNT(*) FROM company_name AS cn1, comp...</td>\n",
       "      <td>8949</td>\n",
       "      <td>[{'Plan': {'Node Type': 'Aggregate', 'Strategy...</td>\n",
       "      <td>415.680</td>\n",
       "      <td>204.580</td>\n",
       "      <td>33a</td>\n",
       "      <td>1</td>\n",
       "      <td>full-train</td>\n",
       "    </tr>\n",
       "    <tr>\n",
       "      <th>...</th>\n",
       "      <td>...</td>\n",
       "      <td>...</td>\n",
       "      <td>...</td>\n",
       "      <td>...</td>\n",
       "      <td>...</td>\n",
       "      <td>...</td>\n",
       "      <td>...</td>\n",
       "      <td>...</td>\n",
       "      <td>...</td>\n",
       "    </tr>\n",
       "    <tr>\n",
       "      <th>1012</th>\n",
       "      <td>108</td>\n",
       "      <td>SELECT COUNT(*) FROM company_name AS cn1, comp...</td>\n",
       "      <td>3467</td>\n",
       "      <td>[{'Plan': {'Node Type': 'Aggregate', 'Strategy...</td>\n",
       "      <td>408.024</td>\n",
       "      <td>247.745</td>\n",
       "      <td>33b</td>\n",
       "      <td>3</td>\n",
       "      <td>full-train-no-cache</td>\n",
       "    </tr>\n",
       "    <tr>\n",
       "      <th>1013</th>\n",
       "      <td>109</td>\n",
       "      <td>SELECT COUNT(*) FROM cast_info AS ci, info_typ...</td>\n",
       "      <td>29759</td>\n",
       "      <td>[{'Plan': {'Node Type': 'Aggregate', 'Strategy...</td>\n",
       "      <td>2116.037</td>\n",
       "      <td>81.085</td>\n",
       "      <td>18b</td>\n",
       "      <td>3</td>\n",
       "      <td>full-train-no-cache</td>\n",
       "    </tr>\n",
       "    <tr>\n",
       "      <th>1014</th>\n",
       "      <td>110</td>\n",
       "      <td>SELECT COUNT(*) FROM keyword AS k, movie_info ...</td>\n",
       "      <td>5131</td>\n",
       "      <td>[{'Plan': {'Node Type': 'Aggregate', 'Strategy...</td>\n",
       "      <td>1322.505</td>\n",
       "      <td>76.062</td>\n",
       "      <td>3a</td>\n",
       "      <td>3</td>\n",
       "      <td>full-train-no-cache</td>\n",
       "    </tr>\n",
       "    <tr>\n",
       "      <th>1015</th>\n",
       "      <td>111</td>\n",
       "      <td>SELECT COUNT(*) FROM info_type AS it1, info_ty...</td>\n",
       "      <td>93219</td>\n",
       "      <td>[{'Plan': {'Node Type': 'Aggregate', 'Strategy...</td>\n",
       "      <td>1660.667</td>\n",
       "      <td>83.574</td>\n",
       "      <td>14b</td>\n",
       "      <td>3</td>\n",
       "      <td>full-train-no-cache</td>\n",
       "    </tr>\n",
       "    <tr>\n",
       "      <th>1016</th>\n",
       "      <td>112</td>\n",
       "      <td>SELECT COUNT(*) FROM cast_info AS ci, keyword ...</td>\n",
       "      <td>419</td>\n",
       "      <td>[{'Plan': {'Node Type': 'Aggregate', 'Strategy...</td>\n",
       "      <td>1968.600</td>\n",
       "      <td>76.966</td>\n",
       "      <td>6a</td>\n",
       "      <td>3</td>\n",
       "      <td>full-train-no-cache</td>\n",
       "    </tr>\n",
       "  </tbody>\n",
       "</table>\n",
       "<p>1017 rows × 9 columns</p>\n",
       "</div>"
      ],
      "text/plain": [
       "      index                                              query     cout  \\\n",
       "0         0  SELECT COUNT(*) FROM keyword AS k, movie_info ...     9359   \n",
       "1         1  SELECT COUNT(*) FROM company_type AS ct, info_...    46974   \n",
       "2         2  SELECT COUNT(*) FROM aka_title AS at, company_...    39302   \n",
       "3         3  SELECT COUNT(*) FROM complete_cast AS cc, comp...  1358376   \n",
       "4         4  SELECT COUNT(*) FROM company_name AS cn1, comp...     8949   \n",
       "...     ...                                                ...      ...   \n",
       "1012    108  SELECT COUNT(*) FROM company_name AS cn1, comp...     3467   \n",
       "1013    109  SELECT COUNT(*) FROM cast_info AS ci, info_typ...    29759   \n",
       "1014    110  SELECT COUNT(*) FROM keyword AS k, movie_info ...     5131   \n",
       "1015    111  SELECT COUNT(*) FROM info_type AS it1, info_ty...    93219   \n",
       "1016    112  SELECT COUNT(*) FROM cast_info AS ci, keyword ...      419   \n",
       "\n",
       "                                                   plan    t_exec   t_plan  \\\n",
       "0     [{'Plan': {'Node Type': 'Aggregate', 'Strategy...  1628.297   35.353   \n",
       "1     [{'Plan': {'Node Type': 'Aggregate', 'Strategy...   244.633   33.053   \n",
       "2     [{'Plan': {'Node Type': 'Aggregate', 'Strategy...  1043.781   56.711   \n",
       "3     [{'Plan': {'Node Type': 'Aggregate', 'Strategy...  3852.261  194.143   \n",
       "4     [{'Plan': {'Node Type': 'Aggregate', 'Strategy...   415.680  204.580   \n",
       "...                                                 ...       ...      ...   \n",
       "1012  [{'Plan': {'Node Type': 'Aggregate', 'Strategy...   408.024  247.745   \n",
       "1013  [{'Plan': {'Node Type': 'Aggregate', 'Strategy...  2116.037   81.085   \n",
       "1014  [{'Plan': {'Node Type': 'Aggregate', 'Strategy...  1322.505   76.062   \n",
       "1015  [{'Plan': {'Node Type': 'Aggregate', 'Strategy...  1660.667   83.574   \n",
       "1016  [{'Plan': {'Node Type': 'Aggregate', 'Strategy...  1968.600   76.966   \n",
       "\n",
       "     label  run             workload  \n",
       "0       3c    1           full-train  \n",
       "1       1d    1           full-train  \n",
       "2      15d    1           full-train  \n",
       "3      28c    1           full-train  \n",
       "4      33a    1           full-train  \n",
       "...    ...  ...                  ...  \n",
       "1012   33b    3  full-train-no-cache  \n",
       "1013   18b    3  full-train-no-cache  \n",
       "1014    3a    3  full-train-no-cache  \n",
       "1015   14b    3  full-train-no-cache  \n",
       "1016    6a    3  full-train-no-cache  \n",
       "\n",
       "[1017 rows x 9 columns]"
      ]
     },
     "execution_count": 36,
     "metadata": {},
     "output_type": "execute_result"
    }
   ],
   "source": [
    "workload_dfs_container = []\n",
    "for workload in available_workloads:\n",
    "    workload_iterations = read_workload_iterations(workload)\n",
    "    for iteration in workload_iterations:\n",
    "        iteration[\"workload\"] = workload\n",
    "    df_workload = pd.concat(workload_iterations)\n",
    "    workload_dfs_container.append(df_workload)\n",
    "df_workloads = pd.concat(workload_dfs_container).reset_index()\n",
    "df_workloads"
   ]
  },
  {
   "cell_type": "code",
   "execution_count": 37,
   "metadata": {},
   "outputs": [],
   "source": [
    "grp_workloads = df_workloads.groupby([\"workload\", \"run\"])[[\"t_exec\"]]"
   ]
  },
  {
   "cell_type": "code",
   "execution_count": 38,
   "metadata": {},
   "outputs": [
    {
     "data": {
      "text/html": [
       "<div>\n",
       "<style scoped>\n",
       "    .dataframe tbody tr th:only-of-type {\n",
       "        vertical-align: middle;\n",
       "    }\n",
       "\n",
       "    .dataframe tbody tr th {\n",
       "        vertical-align: top;\n",
       "    }\n",
       "\n",
       "    .dataframe thead tr th {\n",
       "        text-align: left;\n",
       "    }\n",
       "\n",
       "    .dataframe thead tr:last-of-type th {\n",
       "        text-align: right;\n",
       "    }\n",
       "</style>\n",
       "<table border=\"1\" class=\"dataframe\">\n",
       "  <thead>\n",
       "    <tr>\n",
       "      <th></th>\n",
       "      <th></th>\n",
       "      <th colspan=\"8\" halign=\"left\">t_exec</th>\n",
       "    </tr>\n",
       "    <tr>\n",
       "      <th></th>\n",
       "      <th></th>\n",
       "      <th>count</th>\n",
       "      <th>mean</th>\n",
       "      <th>std</th>\n",
       "      <th>min</th>\n",
       "      <th>25%</th>\n",
       "      <th>50%</th>\n",
       "      <th>75%</th>\n",
       "      <th>max</th>\n",
       "    </tr>\n",
       "    <tr>\n",
       "      <th>workload</th>\n",
       "      <th>run</th>\n",
       "      <th></th>\n",
       "      <th></th>\n",
       "      <th></th>\n",
       "      <th></th>\n",
       "      <th></th>\n",
       "      <th></th>\n",
       "      <th></th>\n",
       "      <th></th>\n",
       "    </tr>\n",
       "  </thead>\n",
       "  <tbody>\n",
       "    <tr>\n",
       "      <th rowspan=\"3\" valign=\"top\">full-train</th>\n",
       "      <th>1</th>\n",
       "      <td>113.0</td>\n",
       "      <td>7149.012301</td>\n",
       "      <td>34815.052763</td>\n",
       "      <td>124.377</td>\n",
       "      <td>1119.300</td>\n",
       "      <td>2233.308</td>\n",
       "      <td>3133.198</td>\n",
       "      <td>359959.310</td>\n",
       "    </tr>\n",
       "    <tr>\n",
       "      <th>2</th>\n",
       "      <td>113.0</td>\n",
       "      <td>2107.021425</td>\n",
       "      <td>1379.750188</td>\n",
       "      <td>127.003</td>\n",
       "      <td>935.975</td>\n",
       "      <td>1997.497</td>\n",
       "      <td>2993.124</td>\n",
       "      <td>7388.799</td>\n",
       "    </tr>\n",
       "    <tr>\n",
       "      <th>3</th>\n",
       "      <td>113.0</td>\n",
       "      <td>2139.538602</td>\n",
       "      <td>1502.660394</td>\n",
       "      <td>125.950</td>\n",
       "      <td>941.571</td>\n",
       "      <td>1999.016</td>\n",
       "      <td>2839.277</td>\n",
       "      <td>7735.888</td>\n",
       "    </tr>\n",
       "    <tr>\n",
       "      <th rowspan=\"3\" valign=\"top\">full-train-no-cache</th>\n",
       "      <th>1</th>\n",
       "      <td>113.0</td>\n",
       "      <td>7190.574186</td>\n",
       "      <td>35387.498172</td>\n",
       "      <td>122.204</td>\n",
       "      <td>1107.581</td>\n",
       "      <td>2219.009</td>\n",
       "      <td>3095.872</td>\n",
       "      <td>366249.377</td>\n",
       "    </tr>\n",
       "    <tr>\n",
       "      <th>2</th>\n",
       "      <td>113.0</td>\n",
       "      <td>2140.367389</td>\n",
       "      <td>1521.418419</td>\n",
       "      <td>124.449</td>\n",
       "      <td>915.898</td>\n",
       "      <td>1937.524</td>\n",
       "      <td>2945.996</td>\n",
       "      <td>7549.269</td>\n",
       "    </tr>\n",
       "    <tr>\n",
       "      <th>3</th>\n",
       "      <td>113.0</td>\n",
       "      <td>1991.451425</td>\n",
       "      <td>1253.203067</td>\n",
       "      <td>124.183</td>\n",
       "      <td>918.631</td>\n",
       "      <td>1943.132</td>\n",
       "      <td>2856.293</td>\n",
       "      <td>7496.569</td>\n",
       "    </tr>\n",
       "    <tr>\n",
       "      <th rowspan=\"3\" valign=\"top\">small-train</th>\n",
       "      <th>1</th>\n",
       "      <td>113.0</td>\n",
       "      <td>5260.240814</td>\n",
       "      <td>15868.353158</td>\n",
       "      <td>128.082</td>\n",
       "      <td>1132.474</td>\n",
       "      <td>2276.196</td>\n",
       "      <td>3172.773</td>\n",
       "      <td>136405.311</td>\n",
       "    </tr>\n",
       "    <tr>\n",
       "      <th>2</th>\n",
       "      <td>113.0</td>\n",
       "      <td>2452.922584</td>\n",
       "      <td>3336.003955</td>\n",
       "      <td>125.526</td>\n",
       "      <td>1110.656</td>\n",
       "      <td>2260.899</td>\n",
       "      <td>3006.572</td>\n",
       "      <td>34929.821</td>\n",
       "    </tr>\n",
       "    <tr>\n",
       "      <th>3</th>\n",
       "      <td>113.0</td>\n",
       "      <td>2775.316274</td>\n",
       "      <td>4455.558261</td>\n",
       "      <td>124.748</td>\n",
       "      <td>1085.060</td>\n",
       "      <td>2301.668</td>\n",
       "      <td>3193.734</td>\n",
       "      <td>34450.099</td>\n",
       "    </tr>\n",
       "  </tbody>\n",
       "</table>\n",
       "</div>"
      ],
      "text/plain": [
       "                        t_exec                                                \\\n",
       "                         count         mean           std      min       25%   \n",
       "workload            run                                                        \n",
       "full-train          1    113.0  7149.012301  34815.052763  124.377  1119.300   \n",
       "                    2    113.0  2107.021425   1379.750188  127.003   935.975   \n",
       "                    3    113.0  2139.538602   1502.660394  125.950   941.571   \n",
       "full-train-no-cache 1    113.0  7190.574186  35387.498172  122.204  1107.581   \n",
       "                    2    113.0  2140.367389   1521.418419  124.449   915.898   \n",
       "                    3    113.0  1991.451425   1253.203067  124.183   918.631   \n",
       "small-train         1    113.0  5260.240814  15868.353158  128.082  1132.474   \n",
       "                    2    113.0  2452.922584   3336.003955  125.526  1110.656   \n",
       "                    3    113.0  2775.316274   4455.558261  124.748  1085.060   \n",
       "\n",
       "                                                         \n",
       "                              50%       75%         max  \n",
       "workload            run                                  \n",
       "full-train          1    2233.308  3133.198  359959.310  \n",
       "                    2    1997.497  2993.124    7388.799  \n",
       "                    3    1999.016  2839.277    7735.888  \n",
       "full-train-no-cache 1    2219.009  3095.872  366249.377  \n",
       "                    2    1937.524  2945.996    7549.269  \n",
       "                    3    1943.132  2856.293    7496.569  \n",
       "small-train         1    2276.196  3172.773  136405.311  \n",
       "                    2    2260.899  3006.572   34929.821  \n",
       "                    3    2301.668  3193.734   34450.099  "
      ]
     },
     "execution_count": 38,
     "metadata": {},
     "output_type": "execute_result"
    }
   ],
   "source": [
    "grp_workloads.describe()"
   ]
  },
  {
   "cell_type": "code",
   "execution_count": 39,
   "metadata": {},
   "outputs": [
    {
     "data": {
      "text/html": [
       "<div>\n",
       "<style scoped>\n",
       "    .dataframe tbody tr th:only-of-type {\n",
       "        vertical-align: middle;\n",
       "    }\n",
       "\n",
       "    .dataframe tbody tr th {\n",
       "        vertical-align: top;\n",
       "    }\n",
       "\n",
       "    .dataframe thead th {\n",
       "        text-align: right;\n",
       "    }\n",
       "</style>\n",
       "<table border=\"1\" class=\"dataframe\">\n",
       "  <thead>\n",
       "    <tr style=\"text-align: right;\">\n",
       "      <th></th>\n",
       "      <th></th>\n",
       "      <th>t_exec</th>\n",
       "    </tr>\n",
       "    <tr>\n",
       "      <th>workload</th>\n",
       "      <th>run</th>\n",
       "      <th></th>\n",
       "    </tr>\n",
       "  </thead>\n",
       "  <tbody>\n",
       "    <tr>\n",
       "      <th rowspan=\"3\" valign=\"top\">full-train</th>\n",
       "      <th>1</th>\n",
       "      <td>13.463973</td>\n",
       "    </tr>\n",
       "    <tr>\n",
       "      <th>2</th>\n",
       "      <td>3.968224</td>\n",
       "    </tr>\n",
       "    <tr>\n",
       "      <th>3</th>\n",
       "      <td>4.029464</td>\n",
       "    </tr>\n",
       "    <tr>\n",
       "      <th rowspan=\"3\" valign=\"top\">full-train-no-cache</th>\n",
       "      <th>1</th>\n",
       "      <td>13.542248</td>\n",
       "    </tr>\n",
       "    <tr>\n",
       "      <th>2</th>\n",
       "      <td>4.031025</td>\n",
       "    </tr>\n",
       "    <tr>\n",
       "      <th>3</th>\n",
       "      <td>3.750567</td>\n",
       "    </tr>\n",
       "    <tr>\n",
       "      <th rowspan=\"3\" valign=\"top\">small-train</th>\n",
       "      <th>1</th>\n",
       "      <td>9.906787</td>\n",
       "    </tr>\n",
       "    <tr>\n",
       "      <th>2</th>\n",
       "      <td>4.619671</td>\n",
       "    </tr>\n",
       "    <tr>\n",
       "      <th>3</th>\n",
       "      <td>5.226846</td>\n",
       "    </tr>\n",
       "  </tbody>\n",
       "</table>\n",
       "</div>"
      ],
      "text/plain": [
       "                            t_exec\n",
       "workload            run           \n",
       "full-train          1    13.463973\n",
       "                    2     3.968224\n",
       "                    3     4.029464\n",
       "full-train-no-cache 1    13.542248\n",
       "                    2     4.031025\n",
       "                    3     3.750567\n",
       "small-train         1     9.906787\n",
       "                    2     4.619671\n",
       "                    3     5.226846"
      ]
     },
     "execution_count": 39,
     "metadata": {},
     "output_type": "execute_result"
    }
   ],
   "source": [
    "df_workload_rts = grp_workloads.sum() / 60000\n",
    "df_workload_rts"
   ]
  },
  {
   "cell_type": "code",
   "execution_count": 40,
   "metadata": {},
   "outputs": [],
   "source": [
    "df_workload_rts.reset_index(inplace=True)\n",
    "rt_baseline = select(df_all, run=\"baseline\").t_exec.sum() / 60000\n",
    "rt_ues = select(df_all, run=\"ues\").t_exec.sum() / 60000"
   ]
  },
  {
   "cell_type": "code",
   "execution_count": 41,
   "metadata": {},
   "outputs": [
    {
     "data": {
      "text/plain": [
       "<matplotlib.legend.Legend at 0x7efb90bee3d0>"
      ]
     },
     "execution_count": 41,
     "metadata": {},
     "output_type": "execute_result"
    },
    {
     "data": {
      "image/png": "[encoded data removed]",
      "text/plain": [
       "<Figure size 864x576 with 1 Axes>"
      ]
     },
     "metadata": {},
     "output_type": "display_data"
    }
   ],
   "source": [
    "fig, ax = plt.subplots(figsize=(12,8))\n",
    "g = sns.scatterplot(data=df_workload_rts, x=\"run\", y=\"t_exec\", hue=\"workload\", ax=ax)\n",
    "g = sns.lineplot(data=df_workload_rts, x=\"run\", y=\"t_exec\", hue=\"workload\", ax=ax)\n",
    "ax_base = g.axhline(rt_baseline, linestyle=\":\")\n",
    "ax_ues = g.axhline(rt_ues, linestyle=\":\")\n",
    "\n",
    "g.set_xticks(df_workload_rts.run.unique())\n",
    "\n",
    "# beware, we need to use some internal APIs here!\n",
    "next(ax._get_lines.prop_cycler)  # fast-forward one entry\n",
    "base_color = next(ax._get_lines.prop_cycler)[\"color\"]\n",
    "ues_color = next(ax._get_lines.prop_cycler)[\"color\"]\n",
    "ax_base.set_color(base_color)\n",
    "ax_ues.set_color(ues_color)\n",
    "\n",
    "data_lines, _ = ax.get_legend_handles_labels()\n",
    "base_line = matplotlib.lines.Line2D([0], [0], color=base_color, linestyle=\":\", label=\"baseline\")\n",
    "ues_line = matplotlib.lines.Line2D([0], [0], color=ues_color, linestyle=\":\", label=\"ues\")\n",
    "extended_handels = list(data_lines[2:])\n",
    "extended_handels.extend([base_line, ues_line])\n",
    "ax.legend(handles=extended_handels)"
   ]
  },
  {
   "cell_type": "markdown",
   "metadata": {},
   "source": [
    "## Workloads without cached data"
   ]
  },
  {
   "cell_type": "code",
   "execution_count": 42,
   "metadata": {},
   "outputs": [],
   "source": [
    "df1_nc, df2_nc, df3_nc = read_workload_iterations(w_nocache)\n",
    "\n",
    "df_nc_raw = pd.concat([df1_nc, df2_nc, df3_nc])\n",
    "df_nc = filter_heavy_hitters(df_nc_raw, exclude_heavy_hitter_pct).copy()"
   ]
  },
  {
   "cell_type": "code",
   "execution_count": 43,
   "metadata": {},
   "outputs": [
    {
     "data": {
      "text/plain": [
       "run\n",
       "1    13.542248\n",
       "2     4.031025\n",
       "3     3.750567\n",
       "Name: t_exec, dtype: float64"
      ]
     },
     "execution_count": 43,
     "metadata": {},
     "output_type": "execute_result"
    }
   ],
   "source": [
    "df_nc.groupby(\"run\").t_exec.sum() / 60000"
   ]
  },
  {
   "cell_type": "code",
   "execution_count": 44,
   "metadata": {},
   "outputs": [
    {
     "data": {
      "text/plain": [
       "run\n",
       "1    13.463973\n",
       "2     3.968224\n",
       "3     4.029464\n",
       "Name: t_exec, dtype: float64"
      ]
     },
     "execution_count": 44,
     "metadata": {},
     "output_type": "execute_result"
    }
   ],
   "source": [
    "df_bao.groupby(\"run\").t_exec.sum() / 60000"
   ]
  }
 ],
 "metadata": {
  "kernelspec": {
   "display_name": "Python 3 (ipykernel)",
   "language": "python",
   "name": "python3"
  },
  "language_info": {
   "codemirror_mode": {
    "name": "ipython",
    "version": 3
   },
   "file_extension": ".py",
   "mimetype": "text/x-python",
   "name": "python",
   "nbconvert_exporter": "python",
   "pygments_lexer": "ipython3",
   "version": "3.8.10"
  }
 },
 "nbformat": 4,
 "nbformat_minor": 4
}
