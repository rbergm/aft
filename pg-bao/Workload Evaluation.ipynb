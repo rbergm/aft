{
 "cells": [
  {
   "cell_type": "markdown",
   "metadata": {},
   "source": [
    "# Workload evaluation"
   ]
  },
  {
   "cell_type": "code",
   "execution_count": 1,
   "metadata": {},
   "outputs": [],
   "source": [
    "import json\n",
    "\n",
    "import matplotlib.pyplot as plt\n",
    "import numpy as np\n",
    "import pandas as pd\n",
    "import seaborn as sns\n",
    "\n",
    "sns.set_style(\"whitegrid\")"
   ]
  },
  {
   "cell_type": "code",
   "execution_count": 2,
   "metadata": {},
   "outputs": [],
   "source": [
    "# get access to our utility scripts\n",
    "import sys\n",
    "utils_path = \"../utils/\"\n",
    "if not utils_path in sys.path:\n",
    "    sys.path.insert(0, utils_path)\n",
    "from helper import *"
   ]
  },
  {
   "cell_type": "markdown",
   "metadata": {},
   "source": [
    "## Data loading"
   ]
  },
  {
   "cell_type": "code",
   "execution_count": 3,
   "metadata": {},
   "outputs": [
    {
     "data": {
      "text/html": [
       "<div>\n",
       "<style scoped>\n",
       "    .dataframe tbody tr th:only-of-type {\n",
       "        vertical-align: middle;\n",
       "    }\n",
       "\n",
       "    .dataframe tbody tr th {\n",
       "        vertical-align: top;\n",
       "    }\n",
       "\n",
       "    .dataframe thead th {\n",
       "        text-align: right;\n",
       "    }\n",
       "</style>\n",
       "<table border=\"1\" class=\"dataframe\">\n",
       "  <thead>\n",
       "    <tr style=\"text-align: right;\">\n",
       "      <th></th>\n",
       "      <th>query</th>\n",
       "      <th>cout</th>\n",
       "      <th>plan</th>\n",
       "      <th>t_exec</th>\n",
       "      <th>t_plan</th>\n",
       "      <th>label</th>\n",
       "      <th>run</th>\n",
       "    </tr>\n",
       "  </thead>\n",
       "  <tbody>\n",
       "    <tr>\n",
       "      <th>0</th>\n",
       "      <td>SELECT COUNT(*) FROM keyword AS k, movie_info ...</td>\n",
       "      <td>9359</td>\n",
       "      <td>[{'Plan': {'Node Type': 'Aggregate', 'Strategy...</td>\n",
       "      <td>1606.537</td>\n",
       "      <td>35.043</td>\n",
       "      <td>3c</td>\n",
       "      <td>1</td>\n",
       "    </tr>\n",
       "    <tr>\n",
       "      <th>1</th>\n",
       "      <td>SELECT COUNT(*) FROM company_type AS ct, info_...</td>\n",
       "      <td>46974</td>\n",
       "      <td>[{'Plan': {'Node Type': 'Aggregate', 'Strategy...</td>\n",
       "      <td>240.636</td>\n",
       "      <td>35.156</td>\n",
       "      <td>1d</td>\n",
       "      <td>1</td>\n",
       "    </tr>\n",
       "    <tr>\n",
       "      <th>2</th>\n",
       "      <td>SELECT COUNT(*) FROM aka_title AS at, company_...</td>\n",
       "      <td>39302</td>\n",
       "      <td>[{'Plan': {'Node Type': 'Aggregate', 'Strategy...</td>\n",
       "      <td>1062.299</td>\n",
       "      <td>55.536</td>\n",
       "      <td>15d</td>\n",
       "      <td>1</td>\n",
       "    </tr>\n",
       "    <tr>\n",
       "      <th>3</th>\n",
       "      <td>SELECT COUNT(*) FROM complete_cast AS cc, comp...</td>\n",
       "      <td>1358376</td>\n",
       "      <td>[{'Plan': {'Node Type': 'Aggregate', 'Strategy...</td>\n",
       "      <td>3842.651</td>\n",
       "      <td>190.036</td>\n",
       "      <td>28c</td>\n",
       "      <td>1</td>\n",
       "    </tr>\n",
       "    <tr>\n",
       "      <th>4</th>\n",
       "      <td>SELECT COUNT(*) FROM company_name AS cn1, comp...</td>\n",
       "      <td>8949</td>\n",
       "      <td>[{'Plan': {'Node Type': 'Aggregate', 'Strategy...</td>\n",
       "      <td>405.442</td>\n",
       "      <td>208.050</td>\n",
       "      <td>33a</td>\n",
       "      <td>1</td>\n",
       "    </tr>\n",
       "    <tr>\n",
       "      <th>...</th>\n",
       "      <td>...</td>\n",
       "      <td>...</td>\n",
       "      <td>...</td>\n",
       "      <td>...</td>\n",
       "      <td>...</td>\n",
       "      <td>...</td>\n",
       "      <td>...</td>\n",
       "    </tr>\n",
       "    <tr>\n",
       "      <th>108</th>\n",
       "      <td>SELECT COUNT(*) FROM company_name AS cn1, comp...</td>\n",
       "      <td>3403</td>\n",
       "      <td>[{'Plan': {'Node Type': 'Aggregate', 'Strategy...</td>\n",
       "      <td>4.803</td>\n",
       "      <td>71.582</td>\n",
       "      <td>33b</td>\n",
       "      <td>baseline</td>\n",
       "    </tr>\n",
       "    <tr>\n",
       "      <th>109</th>\n",
       "      <td>SELECT COUNT(*) FROM cast_info AS ci, info_typ...</td>\n",
       "      <td>74312</td>\n",
       "      <td>[{'Plan': {'Node Type': 'Aggregate', 'Strategy...</td>\n",
       "      <td>792.727</td>\n",
       "      <td>2.453</td>\n",
       "      <td>18b</td>\n",
       "      <td>baseline</td>\n",
       "    </tr>\n",
       "    <tr>\n",
       "      <th>110</th>\n",
       "      <td>SELECT COUNT(*) FROM keyword AS k, movie_info ...</td>\n",
       "      <td>8715</td>\n",
       "      <td>[{'Plan': {'Node Type': 'Aggregate', 'Strategy...</td>\n",
       "      <td>100.883</td>\n",
       "      <td>0.830</td>\n",
       "      <td>3a</td>\n",
       "      <td>baseline</td>\n",
       "    </tr>\n",
       "    <tr>\n",
       "      <th>111</th>\n",
       "      <td>SELECT COUNT(*) FROM info_type AS it1, info_ty...</td>\n",
       "      <td>13541</td>\n",
       "      <td>[{'Plan': {'Node Type': 'Aggregate', 'Strategy...</td>\n",
       "      <td>104.013</td>\n",
       "      <td>4.099</td>\n",
       "      <td>14b</td>\n",
       "      <td>baseline</td>\n",
       "    </tr>\n",
       "    <tr>\n",
       "      <th>112</th>\n",
       "      <td>SELECT COUNT(*) FROM cast_info AS ci, keyword ...</td>\n",
       "      <td>3575</td>\n",
       "      <td>[{'Plan': {'Node Type': 'Aggregate', 'Strategy...</td>\n",
       "      <td>32.182</td>\n",
       "      <td>1.098</td>\n",
       "      <td>6a</td>\n",
       "      <td>baseline</td>\n",
       "    </tr>\n",
       "  </tbody>\n",
       "</table>\n",
       "<p>452 rows × 7 columns</p>\n",
       "</div>"
      ],
      "text/plain": [
       "                                                 query     cout  \\\n",
       "0    SELECT COUNT(*) FROM keyword AS k, movie_info ...     9359   \n",
       "1    SELECT COUNT(*) FROM company_type AS ct, info_...    46974   \n",
       "2    SELECT COUNT(*) FROM aka_title AS at, company_...    39302   \n",
       "3    SELECT COUNT(*) FROM complete_cast AS cc, comp...  1358376   \n",
       "4    SELECT COUNT(*) FROM company_name AS cn1, comp...     8949   \n",
       "..                                                 ...      ...   \n",
       "108  SELECT COUNT(*) FROM company_name AS cn1, comp...     3403   \n",
       "109  SELECT COUNT(*) FROM cast_info AS ci, info_typ...    74312   \n",
       "110  SELECT COUNT(*) FROM keyword AS k, movie_info ...     8715   \n",
       "111  SELECT COUNT(*) FROM info_type AS it1, info_ty...    13541   \n",
       "112  SELECT COUNT(*) FROM cast_info AS ci, keyword ...     3575   \n",
       "\n",
       "                                                  plan    t_exec   t_plan  \\\n",
       "0    [{'Plan': {'Node Type': 'Aggregate', 'Strategy...  1606.537   35.043   \n",
       "1    [{'Plan': {'Node Type': 'Aggregate', 'Strategy...   240.636   35.156   \n",
       "2    [{'Plan': {'Node Type': 'Aggregate', 'Strategy...  1062.299   55.536   \n",
       "3    [{'Plan': {'Node Type': 'Aggregate', 'Strategy...  3842.651  190.036   \n",
       "4    [{'Plan': {'Node Type': 'Aggregate', 'Strategy...   405.442  208.050   \n",
       "..                                                 ...       ...      ...   \n",
       "108  [{'Plan': {'Node Type': 'Aggregate', 'Strategy...     4.803   71.582   \n",
       "109  [{'Plan': {'Node Type': 'Aggregate', 'Strategy...   792.727    2.453   \n",
       "110  [{'Plan': {'Node Type': 'Aggregate', 'Strategy...   100.883    0.830   \n",
       "111  [{'Plan': {'Node Type': 'Aggregate', 'Strategy...   104.013    4.099   \n",
       "112  [{'Plan': {'Node Type': 'Aggregate', 'Strategy...    32.182    1.098   \n",
       "\n",
       "    label       run  \n",
       "0      3c         1  \n",
       "1      1d         1  \n",
       "2     15d         1  \n",
       "3     28c         1  \n",
       "4     33a         1  \n",
       "..    ...       ...  \n",
       "108   33b  baseline  \n",
       "109   18b  baseline  \n",
       "110    3a  baseline  \n",
       "111   14b  baseline  \n",
       "112    6a  baseline  \n",
       "\n",
       "[452 rows x 7 columns]"
      ]
     },
     "execution_count": 3,
     "metadata": {},
     "output_type": "execute_result"
    }
   ],
   "source": [
    "df1 = pd.read_csv(\"workloads/job-full-run1-cout.csv\")\n",
    "df1[\"run\"] = 1\n",
    "df1.plan = df1.plan.apply(json.loads)\n",
    "\n",
    "df2 = pd.read_csv(\"workloads/job-full-run2-cout.csv\")\n",
    "df2[\"run\"] = 2\n",
    "df2.plan = df2.plan.apply(json.loads)\n",
    "\n",
    "df3 = pd.read_csv(\"workloads/job-full-run3-cout.csv\")\n",
    "df3[\"run\"] = 3\n",
    "df3.plan = df3.plan.apply(json.loads)\n",
    "\n",
    "df_baseline = pd.read_csv(\"workloads/job-baseline-cout.csv\")\n",
    "df_baseline[\"run\"] = \"baseline\"\n",
    "df_baseline.plan = df_baseline.plan.apply(json.loads)\n",
    "\n",
    "df_bao = pd.concat([df1, df2, df3])\n",
    "\n",
    "df_all = pd.concat([df_bao, df_baseline])\n",
    "df_all"
   ]
  },
  {
   "cell_type": "markdown",
   "metadata": {},
   "source": [
    "## Analyzing the query execution time across different runs"
   ]
  },
  {
   "cell_type": "code",
   "execution_count": 4,
   "metadata": {},
   "outputs": [],
   "source": [
    "grp_run = df_all.groupby(\"run\")"
   ]
  },
  {
   "cell_type": "markdown",
   "metadata": {},
   "source": [
    "Aggregated information for the different runs:"
   ]
  },
  {
   "cell_type": "code",
   "execution_count": 5,
   "metadata": {},
   "outputs": [
    {
     "data": {
      "text/html": [
       "<div>\n",
       "<style scoped>\n",
       "    .dataframe tbody tr th:only-of-type {\n",
       "        vertical-align: middle;\n",
       "    }\n",
       "\n",
       "    .dataframe tbody tr th {\n",
       "        vertical-align: top;\n",
       "    }\n",
       "\n",
       "    .dataframe thead th {\n",
       "        text-align: right;\n",
       "    }\n",
       "</style>\n",
       "<table border=\"1\" class=\"dataframe\">\n",
       "  <thead>\n",
       "    <tr style=\"text-align: right;\">\n",
       "      <th></th>\n",
       "      <th>count</th>\n",
       "      <th>mean</th>\n",
       "      <th>std</th>\n",
       "      <th>min</th>\n",
       "      <th>25%</th>\n",
       "      <th>50%</th>\n",
       "      <th>75%</th>\n",
       "      <th>max</th>\n",
       "    </tr>\n",
       "    <tr>\n",
       "      <th>run</th>\n",
       "      <th></th>\n",
       "      <th></th>\n",
       "      <th></th>\n",
       "      <th></th>\n",
       "      <th></th>\n",
       "      <th></th>\n",
       "      <th></th>\n",
       "      <th></th>\n",
       "    </tr>\n",
       "  </thead>\n",
       "  <tbody>\n",
       "    <tr>\n",
       "      <th>1</th>\n",
       "      <td>113.0</td>\n",
       "      <td>8422.204991</td>\n",
       "      <td>48049.378525</td>\n",
       "      <td>128.043</td>\n",
       "      <td>1115.723</td>\n",
       "      <td>2183.638</td>\n",
       "      <td>3105.081</td>\n",
       "      <td>504904.168</td>\n",
       "    </tr>\n",
       "    <tr>\n",
       "      <th>2</th>\n",
       "      <td>113.0</td>\n",
       "      <td>2272.411319</td>\n",
       "      <td>2779.032734</td>\n",
       "      <td>123.933</td>\n",
       "      <td>931.638</td>\n",
       "      <td>1952.100</td>\n",
       "      <td>2780.955</td>\n",
       "      <td>27683.457</td>\n",
       "    </tr>\n",
       "    <tr>\n",
       "      <th>3</th>\n",
       "      <td>113.0</td>\n",
       "      <td>2054.798841</td>\n",
       "      <td>1325.289235</td>\n",
       "      <td>126.632</td>\n",
       "      <td>936.051</td>\n",
       "      <td>1953.915</td>\n",
       "      <td>2915.382</td>\n",
       "      <td>7331.436</td>\n",
       "    </tr>\n",
       "    <tr>\n",
       "      <th>baseline</th>\n",
       "      <td>113.0</td>\n",
       "      <td>5025.080496</td>\n",
       "      <td>15981.614976</td>\n",
       "      <td>2.924</td>\n",
       "      <td>128.803</td>\n",
       "      <td>698.284</td>\n",
       "      <td>4043.859</td>\n",
       "      <td>129587.619</td>\n",
       "    </tr>\n",
       "  </tbody>\n",
       "</table>\n",
       "</div>"
      ],
      "text/plain": [
       "          count         mean           std      min       25%       50%  \\\n",
       "run                                                                       \n",
       "1         113.0  8422.204991  48049.378525  128.043  1115.723  2183.638   \n",
       "2         113.0  2272.411319   2779.032734  123.933   931.638  1952.100   \n",
       "3         113.0  2054.798841   1325.289235  126.632   936.051  1953.915   \n",
       "baseline  113.0  5025.080496  15981.614976    2.924   128.803   698.284   \n",
       "\n",
       "               75%         max  \n",
       "run                             \n",
       "1         3105.081  504904.168  \n",
       "2         2780.955   27683.457  \n",
       "3         2915.382    7331.436  \n",
       "baseline  4043.859  129587.619  "
      ]
     },
     "execution_count": 5,
     "metadata": {},
     "output_type": "execute_result"
    }
   ],
   "source": [
    "grp_run.t_exec.describe()"
   ]
  },
  {
   "cell_type": "markdown",
   "metadata": {},
   "source": [
    "Total query execution time [minutes]:"
   ]
  },
  {
   "cell_type": "code",
   "execution_count": 6,
   "metadata": {},
   "outputs": [
    {
     "data": {
      "text/plain": [
       "run\n",
       "1           16.072971\n",
       "2            4.502082\n",
       "3            4.091946\n",
       "baseline     9.500353\n",
       "dtype: float64"
      ]
     },
     "execution_count": 6,
     "metadata": {},
     "output_type": "execute_result"
    }
   ],
   "source": [
    "(grp_run.t_exec.sum() + grp_run.t_plan.sum()) / 60000"
   ]
  },
  {
   "cell_type": "markdown",
   "metadata": {},
   "source": [
    "Raw query execution time (no planning) [minutes]:"
   ]
  },
  {
   "cell_type": "code",
   "execution_count": 7,
   "metadata": {},
   "outputs": [
    {
     "data": {
      "text/plain": [
       "run\n",
       "1           15.861819\n",
       "2            4.279708\n",
       "3            3.869871\n",
       "baseline     9.463902\n",
       "Name: t_exec, dtype: float64"
      ]
     },
     "execution_count": 7,
     "metadata": {},
     "output_type": "execute_result"
    }
   ],
   "source": [
    "grp_run.t_exec.sum() / 60000"
   ]
  },
  {
   "cell_type": "markdown",
   "metadata": {},
   "source": [
    "Total query planning time [seconds]:"
   ]
  },
  {
   "cell_type": "code",
   "execution_count": 8,
   "metadata": {},
   "outputs": [
    {
     "data": {
      "text/plain": [
       "run\n",
       "1           12.669075\n",
       "2           13.342442\n",
       "3           13.324514\n",
       "baseline     2.187110\n",
       "Name: t_plan, dtype: float64"
      ]
     },
     "execution_count": 8,
     "metadata": {},
     "output_type": "execute_result"
    }
   ],
   "source": [
    "grp_run.t_plan.sum() / 1000"
   ]
  },
  {
   "cell_type": "markdown",
   "metadata": {},
   "source": [
    "Execution time distribution:"
   ]
  },
  {
   "cell_type": "code",
   "execution_count": 9,
   "metadata": {
    "scrolled": false
   },
   "outputs": [
    {
     "data": {
      "image/png": "[encoded data removed]",
      "text/plain": [
       "<Figure size 864x576 with 2 Axes>"
      ]
     },
     "metadata": {},
     "output_type": "display_data"
    }
   ],
   "source": [
    "fig, (ax_t_exec, ax_cout) = plt.subplots(nrows=1, ncols=2, figsize=(12, 8))\n",
    "g = sns.boxplot(data=df_all, x=\"run\", y=\"t_exec\", ax=ax_t_exec)\n",
    "g.set_yscale(\"log\")\n",
    "g = sns.boxplot(data=df_all, x=\"run\", y=\"cout\", ax=ax_cout)\n",
    "g.set_yscale(\"log\")"
   ]
  },
  {
   "cell_type": "markdown",
   "metadata": {},
   "source": [
    "## For which queries did BAO improve the execution time substantially?\n",
    "\n",
    "We will now look at which hints lead to the most impressive execution time improvements. In order to do so, we will first quantify how much the execution time improved per query. Afterwards, we take a look at the (positive) outliers and extract the hints that BAO applied.\n",
    "\n",
    "**First up, determine the improvement factor**:"
   ]
  },
  {
   "cell_type": "code",
   "execution_count": 10,
   "metadata": {},
   "outputs": [],
   "source": [
    "grp_query = df_bao.groupby(\"label\")"
   ]
  },
  {
   "cell_type": "code",
   "execution_count": 11,
   "metadata": {},
   "outputs": [],
   "source": [
    "def t_exec_decrease(grp):\n",
    "    init_t_exec = grp[grp.run == 1].t_exec\n",
    "    final_t_exec = grp[grp.run == 3].t_exec\n",
    "    return init_t_exec / final_t_exec"
   ]
  },
  {
   "cell_type": "markdown",
   "metadata": {},
   "source": [
    "**Aggregated overview:** how is the improvement factor (values $> 1$ constitute an improvement) distributed?"
   ]
  },
  {
   "cell_type": "code",
   "execution_count": 12,
   "metadata": {},
   "outputs": [
    {
     "data": {
      "text/plain": [
       "count    113.000000\n",
       "mean       6.906549\n",
       "std       42.516043\n",
       "min        0.596580\n",
       "25%        0.968942\n",
       "50%        1.002781\n",
       "75%        1.031984\n",
       "max      443.647145\n",
       "Name: t_exec, dtype: float64"
      ]
     },
     "execution_count": 12,
     "metadata": {},
     "output_type": "execute_result"
    }
   ],
   "source": [
    "ser_rt_dec = grp_query.apply(t_exec_decrease)\n",
    "ser_rt_dec.describe()"
   ]
  },
  {
   "cell_type": "markdown",
   "metadata": {},
   "source": [
    "**Next up**, we extract the relevant data from the entire BAO data frame. This includes the query plan for the third benchmark iteration, as well as the initial/final execution time. This process is rather technical and does not really provide any insight."
   ]
  },
  {
   "cell_type": "code",
   "execution_count": 13,
   "metadata": {},
   "outputs": [],
   "source": [
    "df_query = df_bao[[\"label\", \"query\", \"plan\", \"t_exec\", \"run\"]].copy()\n",
    "df_query = df_query.join(ser_rt_dec.reset_index(level=0).set_index(\"label\").squeeze(), on=\"label\", rsuffix=\"_dec\")"
   ]
  },
  {
   "cell_type": "code",
   "execution_count": 14,
   "metadata": {},
   "outputs": [],
   "source": [
    "def restructure_df(df_grp):\n",
    "    run3 = select(df_grp, run=3)\n",
    "    final_plan = run3.plan\n",
    "    init_t_exec = select(df_grp, run=1).t_exec\n",
    "    final_t_exec = run3.t_exec\n",
    "    return pd.Series({\"final_plan\" : unwrap(final_plan),\n",
    "                      \"t_exec_init\": unwrap(init_t_exec),\n",
    "                      \"t_exec_final\": unwrap(final_t_exec)})"
   ]
  },
  {
   "cell_type": "code",
   "execution_count": 15,
   "metadata": {},
   "outputs": [],
   "source": [
    "df_summarized = df_query.groupby([\"label\", \"query\", \"t_exec_dec\"])[[\"t_exec\", \"plan\", \"run\"]].apply(restructure_df).reset_index()"
   ]
  },
  {
   "cell_type": "markdown",
   "metadata": {},
   "source": [
    "At this point we are ready to get the final BAO query hints."
   ]
  },
  {
   "cell_type": "code",
   "execution_count": 16,
   "metadata": {},
   "outputs": [],
   "source": [
    "def unwrap_bao_hint(plan):\n",
    "    return plan[0][\"Bao\"][\"Bao recommended hint\"]"
   ]
  },
  {
   "cell_type": "code",
   "execution_count": 17,
   "metadata": {},
   "outputs": [],
   "source": [
    "df_summarized[\"bao_hint\"] = df_summarized.final_plan.apply(unwrap_bao_hint)\n",
    "bao_cols = [\"label\", \"t_exec_dec\", \"t_exec_init\", \"t_exec_final\", \"bao_hint\"]"
   ]
  },
  {
   "cell_type": "markdown",
   "metadata": {},
   "source": [
    "**Finally**, we can extract the good outliers from the benchmark. Which queries are considered outliers can be customized below. The factor is the upper boundary, i.e. setting it to 0.1 will select the top 10% of improvements, setting it to 0.25 will select the top 25%, etc."
   ]
  },
  {
   "cell_type": "code",
   "execution_count": 18,
   "metadata": {},
   "outputs": [],
   "source": [
    "outliers = 0.1"
   ]
  },
  {
   "cell_type": "markdown",
   "metadata": {},
   "source": [
    "\"Brilliant\" or \"excellent\" queries are those queries have an improvement at least as large as the outlier-quantile boundary. This improvement factor is calculated now:"
   ]
  },
  {
   "cell_type": "code",
   "execution_count": 19,
   "metadata": {},
   "outputs": [
    {
     "data": {
      "text/plain": [
       "1.6405646108440959"
      ]
     },
     "execution_count": 19,
     "metadata": {},
     "output_type": "execute_result"
    }
   ],
   "source": [
    "brilliant_t_exec_dec = df_summarized.t_exec_dec.quantile(1-outliers)\n",
    "brilliant_t_exec_dec"
   ]
  },
  {
   "cell_type": "markdown",
   "metadata": {},
   "source": [
    "**At last, here are the queries:**"
   ]
  },
  {
   "cell_type": "code",
   "execution_count": 20,
   "metadata": {},
   "outputs": [
    {
     "data": {
      "text/html": [
       "<div>\n",
       "<style scoped>\n",
       "    .dataframe tbody tr th:only-of-type {\n",
       "        vertical-align: middle;\n",
       "    }\n",
       "\n",
       "    .dataframe tbody tr th {\n",
       "        vertical-align: top;\n",
       "    }\n",
       "\n",
       "    .dataframe thead th {\n",
       "        text-align: right;\n",
       "    }\n",
       "</style>\n",
       "<table border=\"1\" class=\"dataframe\">\n",
       "  <thead>\n",
       "    <tr style=\"text-align: right;\">\n",
       "      <th></th>\n",
       "      <th>label</th>\n",
       "      <th>t_exec_dec</th>\n",
       "      <th>t_exec_init</th>\n",
       "      <th>t_exec_final</th>\n",
       "      <th>bao_hint</th>\n",
       "    </tr>\n",
       "  </thead>\n",
       "  <tbody>\n",
       "    <tr>\n",
       "      <th>11</th>\n",
       "      <td>13b</td>\n",
       "      <td>1.642539</td>\n",
       "      <td>3177.616</td>\n",
       "      <td>1934.576</td>\n",
       "      <td>SET enable_nestloop TO off;</td>\n",
       "    </tr>\n",
       "    <tr>\n",
       "      <th>68</th>\n",
       "      <td>28c</td>\n",
       "      <td>1.687700</td>\n",
       "      <td>3842.651</td>\n",
       "      <td>2276.857</td>\n",
       "      <td>SET enable_nestloop TO off;</td>\n",
       "    </tr>\n",
       "    <tr>\n",
       "      <th>13</th>\n",
       "      <td>13d</td>\n",
       "      <td>1.747584</td>\n",
       "      <td>5017.809</td>\n",
       "      <td>2871.284</td>\n",
       "      <td>SET enable_nestloop TO off;</td>\n",
       "    </tr>\n",
       "    <tr>\n",
       "      <th>70</th>\n",
       "      <td>29b</td>\n",
       "      <td>1.779571</td>\n",
       "      <td>4368.558</td>\n",
       "      <td>2454.838</td>\n",
       "      <td>SET enable_mergejoin TO off;</td>\n",
       "    </tr>\n",
       "    <tr>\n",
       "      <th>12</th>\n",
       "      <td>13c</td>\n",
       "      <td>1.782854</td>\n",
       "      <td>3105.081</td>\n",
       "      <td>1741.635</td>\n",
       "      <td>SET enable_nestloop TO off;</td>\n",
       "    </tr>\n",
       "    <tr>\n",
       "      <th>65</th>\n",
       "      <td>27c</td>\n",
       "      <td>14.291160</td>\n",
       "      <td>22393.604</td>\n",
       "      <td>1566.955</td>\n",
       "      <td>SET enable_mergejoin TO off; SET enable_indexs...</td>\n",
       "    </tr>\n",
       "    <tr>\n",
       "      <th>4</th>\n",
       "      <td>11b</td>\n",
       "      <td>14.305157</td>\n",
       "      <td>5440.151</td>\n",
       "      <td>380.293</td>\n",
       "      <td>SET enable_mergejoin TO off;</td>\n",
       "    </tr>\n",
       "    <tr>\n",
       "      <th>52</th>\n",
       "      <td>23a</td>\n",
       "      <td>39.683696</td>\n",
       "      <td>34453.980</td>\n",
       "      <td>868.215</td>\n",
       "      <td>SET enable_mergejoin TO off;</td>\n",
       "    </tr>\n",
       "    <tr>\n",
       "      <th>53</th>\n",
       "      <td>23b</td>\n",
       "      <td>40.271534</td>\n",
       "      <td>33654.679</td>\n",
       "      <td>835.694</td>\n",
       "      <td>SET enable_mergejoin TO off;</td>\n",
       "    </tr>\n",
       "    <tr>\n",
       "      <th>54</th>\n",
       "      <td>23c</td>\n",
       "      <td>53.725875</td>\n",
       "      <td>46207.852</td>\n",
       "      <td>860.067</td>\n",
       "      <td>SET enable_mergejoin TO off;</td>\n",
       "    </tr>\n",
       "    <tr>\n",
       "      <th>63</th>\n",
       "      <td>27a</td>\n",
       "      <td>66.433598</td>\n",
       "      <td>77396.404</td>\n",
       "      <td>1165.019</td>\n",
       "      <td>SET enable_mergejoin TO off;</td>\n",
       "    </tr>\n",
       "    <tr>\n",
       "      <th>64</th>\n",
       "      <td>27b</td>\n",
       "      <td>443.647145</td>\n",
       "      <td>504904.168</td>\n",
       "      <td>1138.076</td>\n",
       "      <td>SET enable_mergejoin TO off;</td>\n",
       "    </tr>\n",
       "  </tbody>\n",
       "</table>\n",
       "</div>"
      ],
      "text/plain": [
       "   label  t_exec_dec  t_exec_init  t_exec_final  \\\n",
       "11   13b    1.642539     3177.616      1934.576   \n",
       "68   28c    1.687700     3842.651      2276.857   \n",
       "13   13d    1.747584     5017.809      2871.284   \n",
       "70   29b    1.779571     4368.558      2454.838   \n",
       "12   13c    1.782854     3105.081      1741.635   \n",
       "65   27c   14.291160    22393.604      1566.955   \n",
       "4    11b   14.305157     5440.151       380.293   \n",
       "52   23a   39.683696    34453.980       868.215   \n",
       "53   23b   40.271534    33654.679       835.694   \n",
       "54   23c   53.725875    46207.852       860.067   \n",
       "63   27a   66.433598    77396.404      1165.019   \n",
       "64   27b  443.647145   504904.168      1138.076   \n",
       "\n",
       "                                             bao_hint  \n",
       "11                       SET enable_nestloop TO off;   \n",
       "68                       SET enable_nestloop TO off;   \n",
       "13                       SET enable_nestloop TO off;   \n",
       "70                      SET enable_mergejoin TO off;   \n",
       "12                       SET enable_nestloop TO off;   \n",
       "65  SET enable_mergejoin TO off; SET enable_indexs...  \n",
       "4                       SET enable_mergejoin TO off;   \n",
       "52                      SET enable_mergejoin TO off;   \n",
       "53                      SET enable_mergejoin TO off;   \n",
       "54                      SET enable_mergejoin TO off;   \n",
       "63                      SET enable_mergejoin TO off;   \n",
       "64                      SET enable_mergejoin TO off;   "
      ]
     },
     "execution_count": 20,
     "metadata": {},
     "output_type": "execute_result"
    }
   ],
   "source": [
    "df_excellent = df_summarized[df_summarized.t_exec_dec >= brilliant_t_exec_dec]\n",
    "df_excellent[bao_cols].sort_values(by=\"t_exec_dec\")"
   ]
  },
  {
   "cell_type": "code",
   "execution_count": 21,
   "metadata": {},
   "outputs": [
    {
     "data": {
      "image/png": "[encoded data removed]",
      "text/plain": [
       "<Figure size 720x576 with 1 Axes>"
      ]
     },
     "metadata": {},
     "output_type": "display_data"
    }
   ],
   "source": [
    "fig, ax = plt.subplots(figsize=(10,8))\n",
    "g = sns.scatterplot(data=df_excellent, x=\"bao_hint\", y=\"t_exec_dec\", hue=\"label\", style=\"label\", s=200, ax=ax)\n",
    "g.set_yscale(\"log\")"
   ]
  },
  {
   "cell_type": "markdown",
   "metadata": {},
   "source": [
    "## Which query hints did BAO apply during the benchmark?"
   ]
  },
  {
   "cell_type": "code",
   "execution_count": 22,
   "metadata": {},
   "outputs": [],
   "source": [
    "df_bao[\"bao_hint\"] = df_bao.plan.apply(unwrap_bao_hint)"
   ]
  },
  {
   "cell_type": "markdown",
   "metadata": {},
   "source": [
    "The absolute number of times each query hint was applied per run:"
   ]
  },
  {
   "cell_type": "code",
   "execution_count": 23,
   "metadata": {
    "scrolled": false
   },
   "outputs": [
    {
     "data": {
      "image/png": "[encoded data removed]",
      "text/plain": [
       "<Figure size 1296x576 with 1 Axes>"
      ]
     },
     "metadata": {},
     "output_type": "display_data"
    }
   ],
   "source": [
    "fig, ax = plt.subplots(figsize=(18,8))\n",
    "g = sns.countplot(data=df_bao, x=\"run\", hue=\"bao_hint\", ax=ax)\n",
    "g.set_yscale(\"log\")"
   ]
  },
  {
   "cell_type": "markdown",
   "metadata": {},
   "source": [
    "The influence each query hint had on the runtime:"
   ]
  },
  {
   "cell_type": "code",
   "execution_count": null,
   "metadata": {},
   "outputs": [],
   "source": [
    "def per_iteration_runtime_improvement(query_grp):\n",
    "    query_grp."
   ]
  },
  {
   "cell_type": "code",
   "execution_count": null,
   "metadata": {},
   "outputs": [],
   "source": [
    "df_bao.groupby(\"label\").apply()"
   ]
  }
 ],
 "metadata": {
  "kernelspec": {
   "display_name": "Python 3 (ipykernel)",
   "language": "python",
   "name": "python3"
  },
  "language_info": {
   "codemirror_mode": {
    "name": "ipython",
    "version": 3
   },
   "file_extension": ".py",
   "mimetype": "text/x-python",
   "name": "python",
   "nbconvert_exporter": "python",
   "pygments_lexer": "ipython3",
   "version": "3.8.10"
  }
 },
 "nbformat": 4,
 "nbformat_minor": 4
}
